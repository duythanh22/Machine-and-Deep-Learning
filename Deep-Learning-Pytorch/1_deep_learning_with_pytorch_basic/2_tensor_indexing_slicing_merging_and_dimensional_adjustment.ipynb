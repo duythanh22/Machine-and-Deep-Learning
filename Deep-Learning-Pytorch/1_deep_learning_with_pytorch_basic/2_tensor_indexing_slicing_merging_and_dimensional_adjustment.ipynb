{
 "cells": [
  {
   "cell_type": "code",
   "execution_count": 1,
   "id": "fcb854de",
   "metadata": {},
   "outputs": [],
   "source": [
    "import torch"
   ]
  },
  {
   "cell_type": "markdown",
   "id": "7f0f731f",
   "metadata": {},
   "source": [
    "## 1. Indexing\n",
    "### 1.1. Sử sử dụng `index` và `slice`"
   ]
  },
  {
   "cell_type": "code",
   "execution_count": 2,
   "id": "bbe56201",
   "metadata": {},
   "outputs": [
    {
     "data": {
      "text/plain": [
       "tensor([ 0,  3,  6,  9, 12, 15, 18, 21, 24, 27])"
      ]
     },
     "execution_count": 2,
     "metadata": {},
     "output_type": "execute_result"
    }
   ],
   "source": [
    "# chỉ mục với tensor 1D\n",
    "\n",
    "t1 = torch.arange(0, 30, 3)\n",
    "t1"
   ]
  },
  {
   "cell_type": "code",
   "execution_count": 3,
   "id": "de7b75f3",
   "metadata": {},
   "outputs": [
    {
     "data": {
      "text/plain": [
       "(tensor(0), tensor(12), tensor(27))"
      ]
     },
     "execution_count": 3,
     "metadata": {},
     "output_type": "execute_result"
    }
   ],
   "source": [
    "t1[0], t1[4], t1[9] # kết quả khi lấy chỉ mục vẫn là một tensor"
   ]
  },
  {
   "cell_type": "code",
   "execution_count": 4,
   "id": "8f5a9167",
   "metadata": {},
   "outputs": [
    {
     "data": {
      "text/plain": [
       "tensor([ 6,  9, 12, 15])"
      ]
     },
     "execution_count": 4,
     "metadata": {},
     "output_type": "execute_result"
    }
   ],
   "source": [
    "# slice\n",
    "t1[2:6]"
   ]
  },
  {
   "cell_type": "code",
   "execution_count": 5,
   "id": "5dc51bf5",
   "metadata": {},
   "outputs": [
    {
     "data": {
      "text/plain": [
       "tensor([ 3,  9, 15])"
      ]
     },
     "execution_count": 5,
     "metadata": {},
     "output_type": "execute_result"
    }
   ],
   "source": [
    "t1[1:7:2] # thêm step"
   ]
  },
  {
   "cell_type": "code",
   "execution_count": 6,
   "id": "7f7862f2",
   "metadata": {},
   "outputs": [
    {
     "data": {
      "text/plain": [
       "(tensor([ 3,  9, 15, 21, 27]), tensor([ 0,  6, 12, 18]))"
      ]
     },
     "execution_count": 6,
     "metadata": {},
     "output_type": "execute_result"
    }
   ],
   "source": [
    "t1[1::2], t1[:8:2]"
   ]
  },
  {
   "cell_type": "code",
   "execution_count": 7,
   "id": "7007c38d",
   "metadata": {},
   "outputs": [
    {
     "data": {
      "text/plain": [
       "tensor([[ 1,  2,  3,  4,  5,  6],\n",
       "        [ 7,  8,  9, 10, 11, 12],\n",
       "        [13, 14, 15, 16, 17, 18],\n",
       "        [19, 20, 21, 22, 23, 24]])"
      ]
     },
     "execution_count": 7,
     "metadata": {},
     "output_type": "execute_result"
    }
   ],
   "source": [
    "# chỉ mục với tensor 2D\n",
    "t2 = torch.arange(1, 25).reshape((4, 6))\n",
    "t2"
   ]
  },
  {
   "cell_type": "code",
   "execution_count": 8,
   "id": "f145b10c",
   "metadata": {},
   "outputs": [
    {
     "data": {
      "text/plain": [
       "(tensor(9),\n",
       " tensor([3, 9]),\n",
       " tensor([ 7,  9, 11]),\n",
       " tensor([ 7,  9, 11]),\n",
       " tensor([23, 17]),\n",
       " tensor([[ 1,  5],\n",
       "         [13, 17]]))"
      ]
     },
     "execution_count": 8,
     "metadata": {},
     "output_type": "execute_result"
    }
   ],
   "source": [
    "t2[1, 2], t2[:2, 2], t2[1, ::2], t2[1, [0,2,4]], t2[[3, 2], 4], t2[::2, ::4]"
   ]
  },
  {
   "cell_type": "code",
   "execution_count": 9,
   "id": "f3b5e039",
   "metadata": {},
   "outputs": [
    {
     "data": {
      "text/plain": [
       "tensor([[[  1,   2,   3,   4,   5,   6],\n",
       "         [  7,   8,   9,  10,  11,  12],\n",
       "         [ 13,  14,  15,  16,  17,  18],\n",
       "         [ 19,  20,  21,  22,  23,  24],\n",
       "         [ 25,  26,  27,  28,  29,  30]],\n",
       "\n",
       "        [[ 31,  32,  33,  34,  35,  36],\n",
       "         [ 37,  38,  39,  40,  41,  42],\n",
       "         [ 43,  44,  45,  46,  47,  48],\n",
       "         [ 49,  50,  51,  52,  53,  54],\n",
       "         [ 55,  56,  57,  58,  59,  60]],\n",
       "\n",
       "        [[ 61,  62,  63,  64,  65,  66],\n",
       "         [ 67,  68,  69,  70,  71,  72],\n",
       "         [ 73,  74,  75,  76,  77,  78],\n",
       "         [ 79,  80,  81,  82,  83,  84],\n",
       "         [ 85,  86,  87,  88,  89,  90]],\n",
       "\n",
       "        [[ 91,  92,  93,  94,  95,  96],\n",
       "         [ 97,  98,  99, 100, 101, 102],\n",
       "         [103, 104, 105, 106, 107, 108],\n",
       "         [109, 110, 111, 112, 113, 114],\n",
       "         [115, 116, 117, 118, 119, 120]]])"
      ]
     },
     "execution_count": 9,
     "metadata": {},
     "output_type": "execute_result"
    }
   ],
   "source": [
    "# chỉ mục với tensor 3D\n",
    "\n",
    "t3 = torch.arange(1, 121).reshape((4, 5, 6))\n",
    "t3"
   ]
  },
  {
   "cell_type": "code",
   "execution_count": 10,
   "id": "1e296744",
   "metadata": {},
   "outputs": [
    {
     "data": {
      "text/plain": [
       "(tensor(54),\n",
       " tensor([[61, 63, 65],\n",
       "         [73, 75, 77],\n",
       "         [85, 87, 89]]),\n",
       " tensor([[[ 61,  63,  65],\n",
       "          [ 73,  75,  77],\n",
       "          [ 85,  87,  89]],\n",
       " \n",
       "         [[ 91,  93,  95],\n",
       "          [103, 105, 107],\n",
       "          [115, 117, 119]]]))"
      ]
     },
     "execution_count": 10,
     "metadata": {},
     "output_type": "execute_result"
    }
   ],
   "source": [
    "t3[1, 3, 5], t3[2, ::2, ::2], t3[2:, ::2, ::2]"
   ]
  },
  {
   "cell_type": "markdown",
   "id": "ffaf0238",
   "metadata": {},
   "source": [
    "### 1.2. Sử dụng hàm trong torch"
   ]
  },
  {
   "cell_type": "code",
   "execution_count": 11,
   "id": "929e7eda",
   "metadata": {},
   "outputs": [
    {
     "data": {
      "text/plain": [
       "(1, tensor([ 0,  3,  6,  9, 12, 15, 18, 21, 24, 27]))"
      ]
     },
     "execution_count": 11,
     "metadata": {},
     "output_type": "execute_result"
    }
   ],
   "source": [
    "t1.ndim, t1"
   ]
  },
  {
   "cell_type": "code",
   "execution_count": 12,
   "id": "5b5380db",
   "metadata": {},
   "outputs": [
    {
     "data": {
      "text/plain": [
       "tensor([3, 9])"
      ]
     },
     "execution_count": 12,
     "metadata": {},
     "output_type": "execute_result"
    }
   ],
   "source": [
    "# sủ dụng: index_select để lập chỉ mục\n",
    "indices = torch.tensor([1, 3])\n",
    "torch.index_select(t1, 0, indices)"
   ]
  },
  {
   "cell_type": "code",
   "execution_count": 13,
   "id": "4c15a97d",
   "metadata": {},
   "outputs": [
    {
     "data": {
      "text/plain": [
       "(torch.Size([4, 6]),\n",
       " tensor([[ 1,  2,  3,  4,  5,  6],\n",
       "         [ 7,  8,  9, 10, 11, 12],\n",
       "         [13, 14, 15, 16, 17, 18],\n",
       "         [19, 20, 21, 22, 23, 24]]))"
      ]
     },
     "execution_count": 13,
     "metadata": {},
     "output_type": "execute_result"
    }
   ],
   "source": [
    "t2.shape, t2"
   ]
  },
  {
   "cell_type": "code",
   "execution_count": 14,
   "id": "34b53555",
   "metadata": {},
   "outputs": [
    {
     "data": {
      "text/plain": [
       "(tensor([[ 7,  8,  9, 10, 11, 12],\n",
       "         [19, 20, 21, 22, 23, 24]]),\n",
       " tensor([[ 2,  4],\n",
       "         [ 8, 10],\n",
       "         [14, 16],\n",
       "         [20, 22]]))"
      ]
     },
     "execution_count": 14,
     "metadata": {},
     "output_type": "execute_result"
    }
   ],
   "source": [
    "torch.index_select(t2, 0, indices), torch.index_select(t2, 1, indices)"
   ]
  },
  {
   "cell_type": "code",
   "execution_count": null,
   "id": "c7de8264",
   "metadata": {},
   "outputs": [],
   "source": []
  },
  {
   "cell_type": "markdown",
   "id": "2acfb392",
   "metadata": {},
   "source": [
    "## 2. `torch.view()`\n",
    "Phương thức `torch.view()` trong PyTorch được sử dụng để thay đổi kích thước (shape) của tensor mà không thay đổi dữ liệu của tensor đó. Phương thức này trả về một tensor mới, có cùng dữ liệu với tensor ban đầu, nhưng với kích thước khác.\n",
    "\n",
    "Tuy nhiên, đây cũng tương đương như shallow copy nên khi thay đổi một tensor thì tensor khác cũng được thay đổi.\n"
   ]
  },
  {
   "cell_type": "code",
   "execution_count": 15,
   "id": "d84589dd",
   "metadata": {},
   "outputs": [
    {
     "data": {
      "text/plain": [
       "(tensor([[ 1,  2,  3,  4,  5,  6],\n",
       "         [ 7,  8,  9, 10, 11, 12],\n",
       "         [13, 14, 15, 16, 17, 18],\n",
       "         [19, 20, 21, 22, 23, 24]]),\n",
       " torch.Size([4, 6]),\n",
       " tensor([[ 1,  2,  3,  4,  5,  6,  7,  8],\n",
       "         [ 9, 10, 11, 12, 13, 14, 15, 16],\n",
       "         [17, 18, 19, 20, 21, 22, 23, 24]]),\n",
       " torch.Size([3, 8]))"
      ]
     },
     "execution_count": 15,
     "metadata": {},
     "output_type": "execute_result"
    }
   ],
   "source": [
    "t2_view = t2.view(3, 8)\n",
    "t2, t2.shape, t2_view, t2_view.shape"
   ]
  },
  {
   "cell_type": "code",
   "execution_count": 16,
   "id": "9fd6f0b1",
   "metadata": {},
   "outputs": [
    {
     "data": {
      "text/plain": [
       "(tensor([[   1,    2,    3,    4,    5,    6],\n",
       "         [1000,    8, 1000,   10, 1000,   12],\n",
       "         [  13,   14,   15,   16,   17,   18],\n",
       "         [  19,   20,   21,   22,   23,   24]]),\n",
       " tensor([[   1,    2,    3,    4,    5,    6, 1000,    8],\n",
       "         [1000,   10, 1000,   12,   13,   14,   15,   16],\n",
       "         [  17,   18,   19,   20,   21,   22,   23,   24]]))"
      ]
     },
     "execution_count": 16,
     "metadata": {},
     "output_type": "execute_result"
    }
   ],
   "source": [
    "t2[1, ::2] = 1000\n",
    "t2, t2_view"
   ]
  },
  {
   "cell_type": "code",
   "execution_count": 17,
   "id": "47b75d67",
   "metadata": {},
   "outputs": [
    {
     "data": {
      "text/plain": [
       "(tensor([[   1,    2,    3,    4,    5,    6],\n",
       "         [1000,    8,  500,   10,  500,   12],\n",
       "         [ 500,   14,  500,   16,   17,   18],\n",
       "         [  19,   20,   21,   22,   23,   24]]),\n",
       " tensor([[   1,    2,    3,    4,    5,    6, 1000,    8],\n",
       "         [ 500,   10,  500,   12,  500,   14,  500,   16],\n",
       "         [  17,   18,   19,   20,   21,   22,   23,   24]]))"
      ]
     },
     "execution_count": 17,
     "metadata": {},
     "output_type": "execute_result"
    }
   ],
   "source": [
    "t2_view[1, ::2] = 500\n",
    "t2, t2_view"
   ]
  },
  {
   "cell_type": "code",
   "execution_count": 18,
   "id": "bac2f522",
   "metadata": {},
   "outputs": [
    {
     "data": {
      "text/plain": [
       "(tensor([[   1,    2,    3,    4,    5,    6],\n",
       "         [1000,    8,  500,   10,  500,   12],\n",
       "         [ 500,   14,  500,   16,   17,   18],\n",
       "         [  19,   20,   21,   22,   23,   24]]),\n",
       " tensor([[[   1,    2,    3,    4],\n",
       "          [   5,    6, 1000,    8],\n",
       "          [ 500,   10,  500,   12]],\n",
       " \n",
       "         [[ 500,   14,  500,   16],\n",
       "          [  17,   18,   19,   20],\n",
       "          [  21,   22,   23,   24]]]))"
      ]
     },
     "execution_count": 18,
     "metadata": {},
     "output_type": "execute_result"
    }
   ],
   "source": [
    "t2_view_3d = t2.view(2,3, 4)\n",
    "t2, t2_view_3d"
   ]
  },
  {
   "cell_type": "code",
   "execution_count": 19,
   "id": "088fd304",
   "metadata": {},
   "outputs": [
    {
     "data": {
      "text/plain": [
       "(tensor([[   1,    2,    3,    4,    5,    6],\n",
       "         [1000,    8,  500,   10,  500,   12],\n",
       "         [2222,   14,  500,   16,   17,   18],\n",
       "         [2222,   20,   21,   22,   23,   24]]),\n",
       " tensor([[[   1,    2,    3,    4],\n",
       "          [   5,    6, 1000,    8],\n",
       "          [ 500,   10,  500,   12]],\n",
       " \n",
       "         [[2222,   14,  500,   16],\n",
       "          [  17,   18, 2222,   20],\n",
       "          [  21,   22,   23,   24]]]))"
      ]
     },
     "execution_count": 19,
     "metadata": {},
     "output_type": "execute_result"
    }
   ],
   "source": [
    "t2[2:, :1] = 2222\n",
    "t2, t2_view_3d"
   ]
  },
  {
   "cell_type": "markdown",
   "id": "de6bee7c",
   "metadata": {},
   "source": [
    "## 3. Slicing\n",
    "- Phương thức `torch.chunk()` trong PyTorch được sử dụng để chia một tensor thành các tensor con theo một chiều được chỉ định. Cú pháp sử dụng của phương thức này như sau:\n",
    "\n",
    "`torch.chunk(input, chunks, dim=0)`\n",
    "\n",
    "Trong đó:\n",
    "\n",
    "    - input: là tensor cần được chia nhỏ.\n",
    "    - chunks: là số lượng các tensor con cần tạo.\n",
    "    - dim: là chiều của tensor mà ta muốn thực hiện phép chia. Mặc định là 0."
   ]
  },
  {
   "cell_type": "code",
   "execution_count": 20,
   "id": "b9ab8903",
   "metadata": {},
   "outputs": [
    {
     "data": {
      "text/plain": [
       "(tensor([[   1,    2,    3,    4,    5,    6],\n",
       "         [1000,    8,  500,   10,  500,   12],\n",
       "         [2222,   14,  500,   16,   17,   18],\n",
       "         [2222,   20,   21,   22,   23,   24]]),\n",
       " (tensor([[1, 2, 3, 4, 5, 6]]),\n",
       "  tensor([[1000,    8,  500,   10,  500,   12]]),\n",
       "  tensor([[2222,   14,  500,   16,   17,   18]]),\n",
       "  tensor([[2222,   20,   21,   22,   23,   24]])),\n",
       " tensor([1000,    8,  500,   10,  500,   12]))"
      ]
     },
     "execution_count": 20,
     "metadata": {},
     "output_type": "execute_result"
    }
   ],
   "source": [
    "t2_chunked = torch.chunk(t2, 4, dim=0)\n",
    "t2, t2_chunked, t2_chunked[1][0]"
   ]
  },
  {
   "cell_type": "code",
   "execution_count": 21,
   "id": "8081a2e9",
   "metadata": {},
   "outputs": [
    {
     "data": {
      "text/plain": [
       "(tensor([[   1,    2,    3,    4,    5,    6],\n",
       "         [ 100,    8,  100,   10,  100,   12],\n",
       "         [2222,   14,  500,   16,   17,   18],\n",
       "         [2222,   20,   21,   22,   23,   24]]),\n",
       " (tensor([[1, 2, 3, 4, 5, 6]]),\n",
       "  tensor([[100,   8, 100,  10, 100,  12]]),\n",
       "  tensor([[2222,   14,  500,   16,   17,   18]]),\n",
       "  tensor([[2222,   20,   21,   22,   23,   24]])),\n",
       " tensor([100,   8, 100,  10, 100,  12]))"
      ]
     },
     "execution_count": 21,
     "metadata": {},
     "output_type": "execute_result"
    }
   ],
   "source": [
    "t2_chunked[1][0][::2] = 100\n",
    "t2, t2_chunked, t2_chunked[1][0]"
   ]
  },
  {
   "cell_type": "code",
   "execution_count": 22,
   "id": "761849c7",
   "metadata": {},
   "outputs": [
    {
     "data": {
      "text/plain": [
       "((tensor([[  1,   2,   3,   4,   5,   6],\n",
       "          [100,   8, 100,  10, 100,  12]]),\n",
       "  tensor([[2222,   14,  500,   16,   17,   18],\n",
       "          [2222,   20,   21,   22,   23,   24]])),\n",
       " (tensor([[   1],\n",
       "          [ 100],\n",
       "          [2222],\n",
       "          [2222]]),\n",
       "  tensor([[ 2],\n",
       "          [ 8],\n",
       "          [14],\n",
       "          [20]]),\n",
       "  tensor([[  3],\n",
       "          [100],\n",
       "          [500],\n",
       "          [ 21]]),\n",
       "  tensor([[ 4],\n",
       "          [10],\n",
       "          [16],\n",
       "          [22]]),\n",
       "  tensor([[  5],\n",
       "          [100],\n",
       "          [ 17],\n",
       "          [ 23]]),\n",
       "  tensor([[ 6],\n",
       "          [12],\n",
       "          [18],\n",
       "          [24]])))"
      ]
     },
     "execution_count": 22,
     "metadata": {},
     "output_type": "execute_result"
    }
   ],
   "source": [
    "# khi số lượng phần tử ở tensor ban đầu không chia hết cho số chunk chỉ định thì sẽ không báo lỗi mà \n",
    "# nó sẽ được chia theo cách khác hợp lý  hơn\n",
    "\n",
    "torch.chunk(t2, 3, dim=0), torch.chunk(t2, 7, dim=1)"
   ]
  },
  {
   "cell_type": "markdown",
   "id": "4bc89b74",
   "metadata": {},
   "source": [
    "Phương thức `torch.split('tensor', 'num_of_tensor', 'dim')` trong PyTorch được sử dụng để chia một tensor thành các tensor con theo một chiều cụ thể."
   ]
  },
  {
   "cell_type": "code",
   "execution_count": 30,
   "id": "d125b738",
   "metadata": {},
   "outputs": [
    {
     "data": {
      "text/plain": [
       "(tensor([[  1,   2,   3,   4,   5,   6],\n",
       "         [100,   8, 100,  10, 100,  12]]),\n",
       " tensor([[2222,   14,  500,   16,   17,   18],\n",
       "         [2222,   20,   21,   22,   23,   24]]))"
      ]
     },
     "execution_count": 30,
     "metadata": {},
     "output_type": "execute_result"
    }
   ],
   "source": [
    "t2_splitted = torch.split(t2, 2, 0)\n",
    "t2_splitted"
   ]
  },
  {
   "cell_type": "code",
   "execution_count": 39,
   "id": "ee1beacb",
   "metadata": {},
   "outputs": [
    {
     "data": {
      "text/plain": [
       "((tensor([[   1,    2,    3,    4,    5,    6],\n",
       "          [ 100,    8,  100,   10,  100,   12],\n",
       "          [2222,   14,  500,   16,   17,   18]]),\n",
       "  tensor([[2222,   20,   21,   22,   23,   24]])),\n",
       " (tensor([[1, 2, 3, 4, 5, 6]]),\n",
       "  tensor([[ 100,    8,  100,   10,  100,   12],\n",
       "          [2222,   14,  500,   16,   17,   18]]),\n",
       "  tensor([[2222,   20,   21,   22,   23,   24]])))"
      ]
     },
     "execution_count": 39,
     "metadata": {},
     "output_type": "execute_result"
    }
   ],
   "source": [
    "torch.split(t2, [3, 1], 0), torch.split(t2, [1, 2, 1], 0)\n",
    "\n",
    "# torch.split(t2, [1, 2, 3], 0) -> RuntimeError  vì tổng số tensor con cần chi vượt kích thước chiều được chia theo"
   ]
  },
  {
   "cell_type": "code",
   "execution_count": 41,
   "id": "dba8598e",
   "metadata": {},
   "outputs": [
    {
     "data": {
      "text/plain": [
       "(tensor([[   1],\n",
       "         [ 100],\n",
       "         [2222],\n",
       "         [2222]]),\n",
       " tensor([[  2,   3],\n",
       "         [  8, 100],\n",
       "         [ 14, 500],\n",
       "         [ 20,  21]]),\n",
       " tensor([[ 4],\n",
       "         [10],\n",
       "         [16],\n",
       "         [22]]),\n",
       " tensor([[  5,   6],\n",
       "         [100,  12],\n",
       "         [ 17,  18],\n",
       "         [ 23,  24]]))"
      ]
     },
     "execution_count": 41,
     "metadata": {},
     "output_type": "execute_result"
    }
   ],
   "source": [
    "torch.split(t2, [1, 2, 1, 2], 1)"
   ]
  },
  {
   "cell_type": "code",
   "execution_count": 43,
   "id": "936679be",
   "metadata": {},
   "outputs": [
    {
     "data": {
      "text/plain": [
       "(tensor([[     1,      2,      3,      4,      5,      6],\n",
       "         [   100,      8,    100,     10,    100,     12],\n",
       "         [-10000,     14, -10000,     16, -10000,     18],\n",
       "         [  2222,     20,     21,     22,     23,     24]]),\n",
       " (tensor([[  1,   2,   3,   4,   5,   6],\n",
       "          [100,   8, 100,  10, 100,  12]]),\n",
       "  tensor([[-10000,     14, -10000,     16, -10000,     18],\n",
       "          [  2222,     20,     21,     22,     23,     24]])))"
      ]
     },
     "execution_count": 43,
     "metadata": {},
     "output_type": "execute_result"
    }
   ],
   "source": [
    "t2_splitted[1][:1, ::2] = -10000 # chỉnh sửa thay đổi cả 2 tensor\n",
    "t2, t2_splitted"
   ]
  },
  {
   "cell_type": "markdown",
   "id": "d29167ad",
   "metadata": {},
   "source": [
    "## 4. Merger\n",
    "Kết hợp các tensor thành một tensor lớn hơn bằng cách nối hoặc xếp các tensor với nhau tương tự như việc thêm phần tử vào list\n",
    "\n",
    "- `torch.cat()` dùng để nối các tensor cùng kích thước trên một chiều nhất định. Nó cũng có thể được sử dụng để nối các tensor có số chiều khác nhau, tuy nhiên, ta cần chỉ định trục nào được sử dụng để nối.\n",
    "\n",
    "- `torch.stack()` dùng để xếp các tensor lên nhau để tạo ra một tensor mới có số chiều lớn hơn.\n"
   ]
  },
  {
   "cell_type": "code",
   "execution_count": 44,
   "id": "d4969af8",
   "metadata": {},
   "outputs": [
    {
     "data": {
      "text/plain": [
       "(tensor([[0., 0., 0.],\n",
       "         [0., 0., 0.]]),\n",
       " tensor([[1., 1., 1.],\n",
       "         [1., 1., 1.]]),\n",
       " tensor([[0., 0., 0.],\n",
       "         [0., 0., 0.],\n",
       "         [0., 0., 0.]]))"
      ]
     },
     "execution_count": 44,
     "metadata": {},
     "output_type": "execute_result"
    }
   ],
   "source": [
    "# sử dụng cat()\n",
    "\n",
    "a = torch.zeros(2, 3)\n",
    "b = torch.ones(2, 3)\n",
    "c = torch.zeros(3, 3)\n",
    "a, b, c"
   ]
  },
  {
   "cell_type": "code",
   "execution_count": 47,
   "id": "eebc2e43",
   "metadata": {},
   "outputs": [
    {
     "data": {
      "text/plain": [
       "tensor([[0., 0., 0., 1., 1., 1.],\n",
       "        [0., 0., 0., 1., 1., 1.]])"
      ]
     },
     "execution_count": 47,
     "metadata": {},
     "output_type": "execute_result"
    }
   ],
   "source": [
    "# nối theo hàng, dim: mặc định là 0\n",
    "\n",
    "torch.cat([a, b])"
   ]
  },
  {
   "cell_type": "code",
   "execution_count": 49,
   "id": "e6148ee3",
   "metadata": {},
   "outputs": [
    {
     "data": {
      "text/plain": [
       "tensor([[0., 0., 0., 1., 1., 1.],\n",
       "        [0., 0., 0., 1., 1., 1.]])"
      ]
     },
     "execution_count": 49,
     "metadata": {},
     "output_type": "execute_result"
    }
   ],
   "source": [
    "# torch.cat([a, c], dim=1)  -> RuntimeError: vì kích thước 2 tensor không tương thích\n",
    "\n",
    "torch.cat([a,b], dim=1)"
   ]
  },
  {
   "cell_type": "code",
   "execution_count": 50,
   "id": "09a59950",
   "metadata": {},
   "outputs": [
    {
     "data": {
      "text/plain": [
       "(torch.Size([2, 3]), torch.Size([2, 3]), torch.Size([3, 3]))"
      ]
     },
     "execution_count": 50,
     "metadata": {},
     "output_type": "execute_result"
    }
   ],
   "source": [
    "# sử dụng stack\n",
    "a.shape, b.shape, c.shape"
   ]
  },
  {
   "cell_type": "code",
   "execution_count": 53,
   "id": "881d892d",
   "metadata": {},
   "outputs": [
    {
     "data": {
      "text/plain": [
       "(tensor([[[0., 0., 0.],\n",
       "          [0., 0., 0.]],\n",
       " \n",
       "         [[1., 1., 1.],\n",
       "          [1., 1., 1.]]]),\n",
       " torch.Size([2, 2, 3]))"
      ]
     },
     "execution_count": 53,
     "metadata": {},
     "output_type": "execute_result"
    }
   ],
   "source": [
    "# torch.stack([a, c]) -> RuntimeError: kích thước các tensor xếp phải giống nhau\n",
    "torch.stack([a, b]), torch.stack([a, b]).shape"
   ]
  },
  {
   "cell_type": "markdown",
   "id": "14e9374c",
   "metadata": {},
   "source": [
    "#### Khác biệt của hai phương thức:\n",
    "\n",
    "- Khi sử dụng phương thức `torch.cat()`, sau khi nối (concatenate) các tensor lại với nhau, số chiều của tensor kết quả vẫn giữ nguyên. Trong khi đó, sử dụng phương thức `torch.stack()`, số chiều của tensor kết quả sẽ tăng lên một đơn vị.\n",
    "\n",
    "- Khi sử dụng `torch.cat()`, các tensor được nối vào cùng một tensor kết quả. Trong khi đó, với `torch.stack()`, các tensor được xếp chồng lên nhau và được bọc trong một tensor kết quả mới.\n",
    "\n",
    "- Vì các tensor được xếp chồng lên nhau trong phương thức`torch.stack()`, nó yêu cầu các tensor được xếp chồng phải có cùng kích thước tại tất cả các chiều. Trong khi đó, `torch.cat()` có thể nối các tensor có kích thước khác nhau tại một số chiều được chỉ định."
   ]
  },
  {
   "cell_type": "markdown",
   "id": "cbfc4468",
   "metadata": {},
   "source": [
    "### 5. Tensor dimensional adjustment\n",
    "\n",
    "- Bằng phương thức `reshape`, ta có thể linh hoạt điều chỉnh hình dạng của Tensor. Trong quá trình tính toán với Tensor, thường cần thực hiện thêm các thao tác giảm hoặc tăng số chiều của Tensor:\n",
    "\n",
    "- Khi cần loại bỏ các chiều không cần thiết, ta có thể sử dụng hàm `squeeze`\n",
    "- Khi cần tăng số chiều một cách thủ công, ta có thể sử dụng hàm `unsqueeze`"
   ]
  },
  {
   "cell_type": "code",
   "execution_count": 65,
   "id": "0f49b0fb",
   "metadata": {},
   "outputs": [
    {
     "data": {
      "text/plain": [
       "(tensor([[[[1., 1.],\n",
       "           [1., 1.],\n",
       "           [1., 1.]],\n",
       " \n",
       "          [[1., 1.],\n",
       "           [1., 1.],\n",
       "           [1., 1.]]],\n",
       " \n",
       " \n",
       "         [[[1., 1.],\n",
       "           [1., 1.],\n",
       "           [1., 1.]],\n",
       " \n",
       "          [[1., 1.],\n",
       "           [1., 1.],\n",
       "           [1., 1.]]],\n",
       " \n",
       " \n",
       "         [[[1., 1.],\n",
       "           [1., 1.],\n",
       "           [1., 1.]],\n",
       " \n",
       "          [[1., 1.],\n",
       "           [1., 1.],\n",
       "           [1., 1.]]]]),\n",
       " 4,\n",
       " torch.Size([3, 2, 3, 2]),\n",
       " tensor([[[1., 1., 1.],\n",
       "          [1., 1., 1.],\n",
       "          [1., 1., 1.]],\n",
       " \n",
       "         [[1., 1., 1.],\n",
       "          [1., 1., 1.],\n",
       "          [1., 1., 1.]],\n",
       " \n",
       "         [[1., 1., 1.],\n",
       "          [1., 1., 1.],\n",
       "          [1., 1., 1.]],\n",
       " \n",
       "         [[1., 1., 1.],\n",
       "          [1., 1., 1.],\n",
       "          [1., 1., 1.]]]))"
      ]
     },
     "execution_count": 65,
     "metadata": {},
     "output_type": "execute_result"
    }
   ],
   "source": [
    "t4 = torch.ones(3, 2, 3, 2) # \n",
    "t4, t4.ndim, t4.shape, t4.reshape((4, 3 , 3))"
   ]
  },
  {
   "cell_type": "code",
   "execution_count": 67,
   "id": "ffdc635b",
   "metadata": {},
   "outputs": [
    {
     "data": {
      "text/plain": [
       "(4,\n",
       " torch.Size([1, 1, 3, 1]),\n",
       " tensor([[[[1.],\n",
       "           [1.],\n",
       "           [1.]]]]))"
      ]
     },
     "execution_count": 67,
     "metadata": {},
     "output_type": "execute_result"
    }
   ],
   "source": [
    "t5 = torch.ones(1, 1, 3, 1)\n",
    "t5.ndim, t5.shape, t5"
   ]
  },
  {
   "cell_type": "code",
   "execution_count": 70,
   "id": "e9187b6d",
   "metadata": {},
   "outputs": [
    {
     "data": {
      "text/plain": [
       "(tensor([[[[1.],\n",
       "           [1.],\n",
       "           [1.]]]]),\n",
       " tensor([1., 1., 1.]),\n",
       " torch.Size([3]))"
      ]
     },
     "execution_count": 70,
     "metadata": {},
     "output_type": "execute_result"
    }
   ],
   "source": [
    "# squeeze\n",
    "\n",
    "t5_squeezed = torch.squeeze(t5)\n",
    "t5, t5_squeezed, t5_squeezed.shape"
   ]
  },
  {
   "cell_type": "code",
   "execution_count": 72,
   "id": "893bc52a",
   "metadata": {},
   "outputs": [
    {
     "data": {
      "text/plain": [
       "(tensor([[[[[[1., 1.]],\n",
       " \n",
       "            [[1., 1.]]],\n",
       " \n",
       " \n",
       "           [[[1., 1.]],\n",
       " \n",
       "            [[1., 1.]]],\n",
       " \n",
       " \n",
       "           [[[1., 1.]],\n",
       " \n",
       "            [[1., 1.]]]]]]),\n",
       " 6,\n",
       " torch.Size([1, 1, 3, 2, 1, 2]))"
      ]
     },
     "execution_count": 72,
     "metadata": {},
     "output_type": "execute_result"
    }
   ],
   "source": [
    "t6 = torch.ones(1,1,3,2,1,2)\n",
    "t6, t6.ndim, t6.shape"
   ]
  },
  {
   "cell_type": "code",
   "execution_count": 73,
   "id": "90a2fc2b",
   "metadata": {},
   "outputs": [
    {
     "data": {
      "text/plain": [
       "(tensor([[[1., 1.],\n",
       "          [1., 1.]],\n",
       " \n",
       "         [[1., 1.],\n",
       "          [1., 1.]],\n",
       " \n",
       "         [[1., 1.],\n",
       "          [1., 1.]]]),\n",
       " 3,\n",
       " torch.Size([3, 2, 2]))"
      ]
     },
     "execution_count": 73,
     "metadata": {},
     "output_type": "execute_result"
    }
   ],
   "source": [
    "torch.squeeze(t6), torch.squeeze(t6).ndim, torch.squeeze(t6).shape"
   ]
  },
  {
   "cell_type": "code",
   "execution_count": 78,
   "id": "9030e1ac",
   "metadata": {},
   "outputs": [
    {
     "data": {
      "text/plain": [
       "(tensor([[[[5, 5, 5]],\n",
       " \n",
       "          [[5, 5, 5]]]]),\n",
       " torch.Size([1, 2, 1, 3]))"
      ]
     },
     "execution_count": 78,
     "metadata": {},
     "output_type": "execute_result"
    }
   ],
   "source": [
    "# unsqueeze\n",
    "\n",
    "t7 = torch.full((1, 2, 1, 3), 5)\n",
    "t7, t7.shape\n",
    "\n"
   ]
  },
  {
   "cell_type": "code",
   "execution_count": 81,
   "id": "8aaa3077",
   "metadata": {},
   "outputs": [
    {
     "data": {
      "text/plain": [
       "(tensor([[[[[5, 5, 5]],\n",
       " \n",
       "           [[5, 5, 5]]]]]),\n",
       " torch.Size([1, 1, 2, 1, 3]))"
      ]
     },
     "execution_count": 81,
     "metadata": {},
     "output_type": "execute_result"
    }
   ],
   "source": [
    "t7_unsqueezed = torch.unsqueeze(t7, dim=0)\n",
    "t7_unsqueezed, t7_unsqueezed.shape"
   ]
  },
  {
   "cell_type": "code",
   "execution_count": 83,
   "id": "c6cce76d",
   "metadata": {},
   "outputs": [
    {
     "data": {
      "text/plain": [
       "(torch.Size([1, 2, 1, 1, 3]), torch.Size([1, 2, 1, 3, 1]))"
      ]
     },
     "execution_count": 83,
     "metadata": {},
     "output_type": "execute_result"
    }
   ],
   "source": [
    "torch.unsqueeze(t7, dim=2).shape, torch.unsqueeze(t7, dim=4).shape"
   ]
  },
  {
   "cell_type": "code",
   "execution_count": null,
   "id": "50cb5084",
   "metadata": {},
   "outputs": [],
   "source": []
  }
 ],
 "metadata": {
  "kernelspec": {
   "display_name": "Python 3 (ipykernel)",
   "language": "python",
   "name": "python3"
  },
  "language_info": {
   "codemirror_mode": {
    "name": "ipython",
    "version": 3
   },
   "file_extension": ".py",
   "mimetype": "text/x-python",
   "name": "python",
   "nbconvert_exporter": "python",
   "pygments_lexer": "ipython3",
   "version": "3.9.12"
  }
 },
 "nbformat": 4,
 "nbformat_minor": 5
}
