{
 "cells": [
  {
   "attachments": {},
   "cell_type": "markdown",
   "id": "d73252da",
   "metadata": {},
   "source": [
    "# Tạo và lập chỉ mục tensor\n"
   ]
  },
  {
   "cell_type": "code",
   "execution_count": 1,
   "id": "f5723b1f",
   "metadata": {},
   "outputs": [],
   "source": [
    "# thêm thư viện\n",
    "\n",
    "import numpy as np\n",
    "import torch"
   ]
  },
  {
   "cell_type": "code",
   "execution_count": 2,
   "id": "42de47db",
   "metadata": {},
   "outputs": [
    {
     "data": {
      "text/plain": [
       "'1.13.1+cpu'"
      ]
     },
     "execution_count": 2,
     "metadata": {},
     "output_type": "execute_result"
    }
   ],
   "source": [
    "torch.__version__"
   ]
  },
  {
   "attachments": {},
   "cell_type": "markdown",
   "id": "3e856946",
   "metadata": {},
   "source": [
    "## 1. Các kiểu tensor và chuyển đổi\n",
    "### 1.1. Tạo tensor"
   ]
  },
  {
   "cell_type": "code",
   "execution_count": 2,
   "id": "f3ac8888",
   "metadata": {},
   "outputs": [
    {
     "data": {
      "text/plain": [
       "tensor([1, 2, 3])"
      ]
     },
     "execution_count": 2,
     "metadata": {},
     "output_type": "execute_result"
    }
   ],
   "source": [
    "# sử dụng list\n",
    "t1 = torch.tensor([1, 2, 3])\n",
    "t1"
   ]
  },
  {
   "cell_type": "code",
   "execution_count": 4,
   "id": "8a3c3a9f",
   "metadata": {},
   "outputs": [
    {
     "data": {
      "text/plain": [
       "tensor([1, 2, 3])"
      ]
     },
     "execution_count": 4,
     "metadata": {},
     "output_type": "execute_result"
    }
   ],
   "source": [
    "# sử dụng tuple\n",
    "torch.tensor((1, 2,3 ))"
   ]
  },
  {
   "cell_type": "code",
   "execution_count": 5,
   "id": "64cae7b1",
   "metadata": {},
   "outputs": [
    {
     "data": {
      "text/plain": [
       "tensor([1, 2, 3], dtype=torch.int32)"
      ]
     },
     "execution_count": 5,
     "metadata": {},
     "output_type": "execute_result"
    }
   ],
   "source": [
    "# chỉ định kiểu dữ liệu\n",
    "a = np.array((1, 2,3)) # int32\n",
    "t2 = torch.tensor(a)\n",
    "t2"
   ]
  },
  {
   "cell_type": "code",
   "execution_count": 6,
   "id": "eecd868f",
   "metadata": {},
   "outputs": [
    {
     "data": {
      "text/plain": [
       "(dtype('int32'), torch.int64, torch.int32)"
      ]
     },
     "execution_count": 6,
     "metadata": {},
     "output_type": "execute_result"
    }
   ],
   "source": [
    "a.dtype, t1.dtype, t2.dtype"
   ]
  },
  {
   "cell_type": "code",
   "execution_count": 7,
   "id": "f8f3e8d9",
   "metadata": {},
   "outputs": [
    {
     "data": {
      "text/plain": [
       "(dtype('float64'), torch.float32, torch.float64)"
      ]
     },
     "execution_count": 7,
     "metadata": {},
     "output_type": "execute_result"
    }
   ],
   "source": [
    "# với kiểu float\n",
    "\n",
    "np.array([1.1, 1.2]).dtype, torch.tensor([1.1, 1.2]).dtype, torch.tensor((np.array([1.1, 1.2]))).dtype"
   ]
  },
  {
   "cell_type": "code",
   "execution_count": 8,
   "id": "248c2a5e",
   "metadata": {},
   "outputs": [
    {
     "data": {
      "text/plain": [
       "(tensor([ True, False]), torch.bool)"
      ]
     },
     "execution_count": 8,
     "metadata": {},
     "output_type": "execute_result"
    }
   ],
   "source": [
    "# kiểu boolean\n",
    "t3 = torch.tensor([True, False])\n",
    "t3, t3.dtype"
   ]
  },
  {
   "cell_type": "code",
   "execution_count": 9,
   "id": "4a63e900",
   "metadata": {},
   "outputs": [
    {
     "data": {
      "text/plain": [
       "(tensor([1.+2.j, 2.+1.j]), torch.complex64)"
      ]
     },
     "execution_count": 9,
     "metadata": {},
     "output_type": "execute_result"
    }
   ],
   "source": [
    "# với số phức\n",
    "t4 = torch.tensor([1+2j, 2+1j])\n",
    "t4, t4.dtype"
   ]
  },
  {
   "cell_type": "code",
   "execution_count": 10,
   "id": "5cf528d2",
   "metadata": {},
   "outputs": [
    {
     "data": {
      "text/plain": [
       "tensor([2., 4., 6.])"
      ]
     },
     "execution_count": 10,
     "metadata": {},
     "output_type": "execute_result"
    }
   ],
   "source": [
    "# chỉ định kiểu tensor\n",
    "torch.tensor([2, 4, 6], dtype=torch.float32)"
   ]
  },
  {
   "cell_type": "code",
   "execution_count": 11,
   "id": "ec29d6cd",
   "metadata": {},
   "outputs": [
    {
     "data": {
      "text/plain": [
       "(tensor([2.0000, 1.1000]), torch.float32)"
      ]
     },
     "execution_count": 11,
     "metadata": {},
     "output_type": "execute_result"
    }
   ],
   "source": [
    "t5 = torch.tensor([2, 1.1]) # tự xác định\n",
    "t5, t5.dtype"
   ]
  },
  {
   "cell_type": "code",
   "execution_count": 12,
   "id": "68a6665c",
   "metadata": {},
   "outputs": [
    {
     "data": {
      "text/plain": [
       "(tensor([3.0000, 1.0000, 3.1400]), torch.float32)"
      ]
     },
     "execution_count": 12,
     "metadata": {},
     "output_type": "execute_result"
    }
   ],
   "source": [
    "t6 = torch.tensor([3, True, 3.14])\n",
    "t6, t6.dtype"
   ]
  },
  {
   "cell_type": "code",
   "execution_count": 13,
   "id": "fbd40fbf",
   "metadata": {},
   "outputs": [
    {
     "data": {
      "text/plain": [
       "(tensor([1, 2, 3]),\n",
       " tensor([1., 2., 3.], dtype=torch.float64),\n",
       " tensor([1, 2, 3], dtype=torch.int16),\n",
       " tensor([1, 2, 3]))"
      ]
     },
     "execution_count": 13,
     "metadata": {},
     "output_type": "execute_result"
    }
   ],
   "source": [
    "# thay đổi kiểu tensor sẽ không làm thay đổi kiểu tensor ban đàu\n",
    "t1, t1.double(), t1.short(), t1"
   ]
  },
  {
   "cell_type": "code",
   "execution_count": 14,
   "id": "c359a374",
   "metadata": {},
   "outputs": [
    {
     "data": {
      "text/plain": [
       "torch.float64"
      ]
     },
     "execution_count": 14,
     "metadata": {},
     "output_type": "execute_result"
    }
   ],
   "source": [
    "t1 = t1.double() # gán lại\n",
    "t1.dtype"
   ]
  },
  {
   "attachments": {},
   "cell_type": "markdown",
   "id": "ef210922",
   "metadata": {},
   "source": [
    "## 1.2. Chiều tensor\n"
   ]
  },
  {
   "cell_type": "code",
   "execution_count": null,
   "id": "09186435",
   "metadata": {},
   "outputs": [],
   "source": [
    "# Tensor 1 chiều"
   ]
  },
  {
   "cell_type": "code",
   "execution_count": null,
   "id": "15f98111",
   "metadata": {},
   "outputs": [],
   "source": [
    "## Tensor"
   ]
  },
  {
   "attachments": {},
   "cell_type": "markdown",
   "id": "e4711496",
   "metadata": {},
   "source": [
    "## 2. Kích thước và biến đổi tensor\n",
    "### 2.1. Kích thước và ..."
   ]
  },
  {
   "cell_type": "code",
   "execution_count": 15,
   "id": "857952ab",
   "metadata": {},
   "outputs": [
    {
     "data": {
      "text/plain": [
       "(1, torch.Size([3]), torch.Size([3]))"
      ]
     },
     "execution_count": 15,
     "metadata": {},
     "output_type": "execute_result"
    }
   ],
   "source": [
    "# kiểm tra kích thước và hình dạng của tensor\n",
    "t1.ndim, t1.shape, t1.size()"
   ]
  },
  {
   "cell_type": "code",
   "execution_count": 16,
   "id": "173576ba",
   "metadata": {},
   "outputs": [
    {
     "data": {
      "text/plain": [
       "(3, 3)"
      ]
     },
     "execution_count": 16,
     "metadata": {},
     "output_type": "execute_result"
    }
   ],
   "source": [
    "len(t1), t1.numel() # trả về số lượng phần tử"
   ]
  },
  {
   "cell_type": "code",
   "execution_count": 17,
   "id": "69f866c7",
   "metadata": {},
   "outputs": [
    {
     "data": {
      "text/plain": [
       "tensor([[1, 2, 3],\n",
       "        [5, 6, 7]])"
      ]
     },
     "execution_count": 17,
     "metadata": {},
     "output_type": "execute_result"
    }
   ],
   "source": [
    "t7 = torch.tensor([[1, 2, 3], [5, 6, 7]])\n",
    "t7"
   ]
  },
  {
   "cell_type": "code",
   "execution_count": 18,
   "id": "b6bf2038",
   "metadata": {},
   "outputs": [
    {
     "data": {
      "text/plain": [
       "(2, torch.Size([2, 3]), torch.Size([2, 3]), 6)"
      ]
     },
     "execution_count": 18,
     "metadata": {},
     "output_type": "execute_result"
    }
   ],
   "source": [
    "t7.ndim, t7.shape, t7.size(), t7.numel()"
   ]
  },
  {
   "cell_type": "code",
   "execution_count": 19,
   "id": "b9ee0205",
   "metadata": {},
   "outputs": [
    {
     "data": {
      "text/plain": [
       "(0, torch.Size([]), 1)"
      ]
     },
     "execution_count": 19,
     "metadata": {},
     "output_type": "execute_result"
    }
   ],
   "source": [
    "# tensor không chiều\n",
    "\n",
    "t8 = torch.tensor(1)\n",
    "t8.ndim, t8.shape, t8.numel()"
   ]
  },
  {
   "cell_type": "code",
   "execution_count": 20,
   "id": "e5aaca0c",
   "metadata": {},
   "outputs": [
    {
     "data": {
      "text/plain": [
       "(0, torch.Size([]), 1)"
      ]
     },
     "execution_count": 20,
     "metadata": {},
     "output_type": "execute_result"
    }
   ],
   "source": [
    "# tensor 1 chiều\n",
    "t9 = torch.tensor([1])\n",
    "t8.ndim, t8.shape, t8.numel()"
   ]
  },
  {
   "cell_type": "code",
   "execution_count": 30,
   "id": "30158531",
   "metadata": {},
   "outputs": [
    {
     "data": {
      "text/plain": [
       "(tensor([[[1, 2, 3],\n",
       "          [4, 5, 6]],\n",
       " \n",
       "         [[3, 3, 4],\n",
       "          [1, 2, 6]]], dtype=torch.int32),\n",
       " 3,\n",
       " torch.Size([2, 2, 3]),\n",
       " 12)"
      ]
     },
     "execution_count": 30,
     "metadata": {},
     "output_type": "execute_result"
    }
   ],
   "source": [
    "# tensor nhiều chiều\n",
    "\n",
    "a1 = np.array([[1,2 ,3], [4, 5, 6]])\n",
    "a2 = np.array([[3, 3, 4], [1, 2, 6]])\n",
    "t10 = torch.tensor([a1, a2])\n",
    "t10, t10.ndim, t10.shape, t10.numel()"
   ]
  },
  {
   "attachments": {},
   "cell_type": "markdown",
   "id": "6365fc15",
   "metadata": {},
   "source": [
    "### 2.2. Biến đổi tensor"
   ]
  },
  {
   "cell_type": "code",
   "execution_count": 22,
   "id": "cc4784ea",
   "metadata": {},
   "outputs": [
    {
     "data": {
      "text/plain": [
       "(tensor([[[1, 2, 3],\n",
       "          [4, 5, 6]],\n",
       " \n",
       "         [[3, 3, 4],\n",
       "          [1, 2, 6]]], dtype=torch.int32),\n",
       " tensor([1, 2, 3, 4, 5, 6, 3, 3, 4, 1, 2, 6], dtype=torch.int32))"
      ]
     },
     "execution_count": 22,
     "metadata": {},
     "output_type": "execute_result"
    }
   ],
   "source": [
    "# làm phẳng tensor\n",
    "# flatten: biến đổi tensor nhiều chiều thành mảng 1 chiều\n",
    "\n",
    "t10, t10.flatten()"
   ]
  },
  {
   "cell_type": "code",
   "execution_count": 23,
   "id": "a6fff9ba",
   "metadata": {},
   "outputs": [
    {
     "data": {
      "text/plain": [
       "(tensor(1), tensor([1]), 1)"
      ]
     },
     "execution_count": 23,
     "metadata": {},
     "output_type": "execute_result"
    }
   ],
   "source": [
    "t8, t8.flatten(), t8.flatten().ndim"
   ]
  },
  {
   "cell_type": "code",
   "execution_count": 24,
   "id": "021d09be",
   "metadata": {},
   "outputs": [],
   "source": [
    "# reshpae: thay đổi dạng tensor\n",
    "\n",
    "t11 = torch.tensor([1, 2])"
   ]
  },
  {
   "cell_type": "code",
   "execution_count": 25,
   "id": "e3d524ad",
   "metadata": {},
   "outputs": [
    {
     "data": {
      "text/plain": [
       "(tensor([1, 2]),\n",
       " tensor([[1],\n",
       "         [2]]),\n",
       " torch.Size([3]),\n",
       " torch.Size([2, 1]),\n",
       " 1,\n",
       " 2)"
      ]
     },
     "execution_count": 25,
     "metadata": {},
     "output_type": "execute_result"
    }
   ],
   "source": [
    "t11, t11.reshape(2,1), t1.shape, t11.reshape(2, 1).shape, t11.ndim, t11.reshape(2, 1).ndim"
   ]
  },
  {
   "cell_type": "code",
   "execution_count": 26,
   "id": "a161f04f",
   "metadata": {},
   "outputs": [
    {
     "data": {
      "text/plain": [
       "(tensor([1, 2]), tensor([1, 2]), tensor([1, 2]), 1)"
      ]
     },
     "execution_count": 26,
     "metadata": {},
     "output_type": "execute_result"
    }
   ],
   "source": [
    "# chuyển đổi sang tensor 1 chiều\n",
    "t11, t11.reshape(2), t11.reshape(2, ), t11.reshape(2).ndim"
   ]
  },
  {
   "cell_type": "code",
   "execution_count": 27,
   "id": "00c7a4d2",
   "metadata": {},
   "outputs": [
    {
     "data": {
      "text/plain": [
       "(tensor([1, 2]),\n",
       " tensor([[1],\n",
       "         [2]]),\n",
       " 2)"
      ]
     },
     "execution_count": 27,
     "metadata": {},
     "output_type": "execute_result"
    }
   ],
   "source": [
    "# chuyển đổi sang tensor 2 chiều\n",
    "t11, t11.reshape(2, 1), t11.reshape(2, 1).ndim"
   ]
  },
  {
   "cell_type": "code",
   "execution_count": 28,
   "id": "2d0bed99",
   "metadata": {},
   "outputs": [
    {
     "data": {
      "text/plain": [
       "(tensor([1, 2]),\n",
       " tensor([[[1, 2]]]),\n",
       " torch.Size([1, 1, 2]),\n",
       " tensor([[[1],\n",
       "          [2]]]),\n",
       " 3)"
      ]
     },
     "execution_count": 28,
     "metadata": {},
     "output_type": "execute_result"
    }
   ],
   "source": [
    "# chuyển đổi sang tensor 3 chiều\n",
    "\n",
    "t11, t11.reshape(1, 1, 2), t11.reshape(1,1,2).shape, t11.reshape(1,2,1), t11.reshape(1,2, 1).ndim"
   ]
  },
  {
   "cell_type": "code",
   "execution_count": 29,
   "id": "2afb2826",
   "metadata": {},
   "outputs": [
    {
     "data": {
      "text/plain": [
       "tensor([1, 2, 3, 4, 5, 6, 3, 3, 4, 1, 2, 6], dtype=torch.int32)"
      ]
     },
     "execution_count": 29,
     "metadata": {},
     "output_type": "execute_result"
    }
   ],
   "source": [
    "# chuyển tensor về mảng 1 chiều\n",
    "t10.reshape(-1)"
   ]
  },
  {
   "attachments": {},
   "cell_type": "markdown",
   "id": "5583f05b",
   "metadata": {},
   "source": [
    "### 3. Cách cách tạo tensor khác"
   ]
  },
  {
   "cell_type": "code",
   "execution_count": 32,
   "id": "cd1bd2a6",
   "metadata": {},
   "outputs": [
    {
     "data": {
      "text/plain": [
       "tensor([[0., 0., 0.],\n",
       "        [0., 0., 0.],\n",
       "        [0., 0., 0.]])"
      ]
     },
     "execution_count": 32,
     "metadata": {},
     "output_type": "execute_result"
    }
   ],
   "source": [
    "# tensor với các giá trị 0\n",
    "torch.zeros([3, 3])"
   ]
  },
  {
   "cell_type": "code",
   "execution_count": 34,
   "id": "320f449b",
   "metadata": {},
   "outputs": [
    {
     "data": {
      "text/plain": [
       "tensor([[[1., 1., 1.],\n",
       "         [1., 1., 1.]],\n",
       "\n",
       "        [[1., 1., 1.],\n",
       "         [1., 1., 1.]]])"
      ]
     },
     "execution_count": 34,
     "metadata": {},
     "output_type": "execute_result"
    }
   ],
   "source": [
    "# tensor với các giá trị 1\n",
    "torch.ones([2, 2, 3])"
   ]
  },
  {
   "cell_type": "code",
   "execution_count": 35,
   "id": "4b4d230e",
   "metadata": {},
   "outputs": [
    {
     "data": {
      "text/plain": [
       "tensor([[1., 0., 0., 0., 0.],\n",
       "        [0., 1., 0., 0., 0.],\n",
       "        [0., 0., 1., 0., 0.],\n",
       "        [0., 0., 0., 1., 0.],\n",
       "        [0., 0., 0., 0., 1.]])"
      ]
     },
     "execution_count": 35,
     "metadata": {},
     "output_type": "execute_result"
    }
   ],
   "source": [
    "# tensor dạng ma trận đơn vị\n",
    "torch.eye(5)"
   ]
  },
  {
   "cell_type": "code",
   "execution_count": 37,
   "id": "3fba3445",
   "metadata": {},
   "outputs": [
    {
     "data": {
      "text/plain": [
       "(tensor([1., 2., 3.], dtype=torch.float64),\n",
       " tensor([[1., 0., 0.],\n",
       "         [0., 2., 0.],\n",
       "         [0., 0., 3.]], dtype=torch.float64))"
      ]
     },
     "execution_count": 37,
     "metadata": {},
     "output_type": "execute_result"
    }
   ],
   "source": [
    "# tạo tensor dạng ma trận đường chéo\n",
    "\n",
    "t1, torch.diag(t1)"
   ]
  },
  {
   "cell_type": "code",
   "execution_count": 38,
   "id": "97b9a43c",
   "metadata": {},
   "outputs": [
    {
     "data": {
      "text/plain": [
       "tensor([[0.3490, 0.8465],\n",
       "        [0.3673, 0.4676]])"
      ]
     },
     "execution_count": 38,
     "metadata": {},
     "output_type": "execute_result"
    }
   ],
   "source": [
    "# rand: tensor có các phân từ trong [0, 1]\n",
    "torch.rand([2, 2])"
   ]
  },
  {
   "cell_type": "code",
   "execution_count": 41,
   "id": "85ccca5c",
   "metadata": {},
   "outputs": [
    {
     "data": {
      "text/plain": [
       "tensor([[ 0.3204, -0.1668, -0.1841],\n",
       "        [ 1.3098, -1.6750, -1.6414],\n",
       "        [ 1.4639, -0.3768, -1.1036]])"
      ]
     },
     "execution_count": 41,
     "metadata": {},
     "output_type": "execute_result"
    }
   ],
   "source": [
    "# randn: tensor có các phần tử theo phân phối chuẩn\n",
    "torch.randn([3, 3])"
   ]
  },
  {
   "attachments": {},
   "cell_type": "markdown",
   "id": "c82ac375",
   "metadata": {},
   "source": [
    "Phân phối chuẩn:$\\text{out}_{i} \\sim \\mathcal{N}(0, 1)$"
   ]
  },
  {
   "cell_type": "code",
   "execution_count": 45,
   "id": "0ea824bd",
   "metadata": {},
   "outputs": [
    {
     "data": {
      "text/plain": [
       "tensor([[-7.1102, -1.3064,  4.0524],\n",
       "        [ 2.3188,  3.1453,  1.4891]])"
      ]
     },
     "execution_count": 45,
     "metadata": {},
     "output_type": "execute_result"
    }
   ],
   "source": [
    "# normal: theo phân phối được chỉ định `normal(mean, std, ...)`\n",
    "torch.normal(2, 3, size=(2, 3))"
   ]
  },
  {
   "cell_type": "code",
   "execution_count": 46,
   "id": "697f7210",
   "metadata": {},
   "outputs": [
    {
     "data": {
      "text/plain": [
       "tensor([[ 6,  7, 10, 11],\n",
       "        [13, 10,  3, 11],\n",
       "        [ 3, 13,  6, 10]])"
      ]
     },
     "execution_count": 46,
     "metadata": {},
     "output_type": "execute_result"
    }
   ],
   "source": [
    "# randint: lấy ngẫu nhiên trong đoạn số nguyên\n",
    "torch.randint(3, 15, size=(3, 4))"
   ]
  },
  {
   "cell_type": "code",
   "execution_count": 49,
   "id": "ddfe05bc",
   "metadata": {},
   "outputs": [
    {
     "data": {
      "text/plain": [
       "(tensor([0, 1, 2, 3, 4]), tensor([ 3,  6,  9, 12]))"
      ]
     },
     "execution_count": 49,
     "metadata": {},
     "output_type": "execute_result"
    }
   ],
   "source": [
    "# tạo theo một trình tự\n",
    "torch.arange(5), torch.arange(3, 15, 3)"
   ]
  },
  {
   "cell_type": "code",
   "execution_count": 50,
   "id": "adcab6ee",
   "metadata": {},
   "outputs": [
    {
     "data": {
      "text/plain": [
       "tensor([ 3.0000,  7.2500, 11.5000, 15.7500, 20.0000])"
      ]
     },
     "execution_count": 50,
     "metadata": {},
     "output_type": "execute_result"
    }
   ],
   "source": [
    "torch.linspace(3, 20, 5)"
   ]
  },
  {
   "cell_type": "code",
   "execution_count": 52,
   "id": "c476a81b",
   "metadata": {},
   "outputs": [
    {
     "data": {
      "text/plain": [
       "tensor([[0., 0., 0.],\n",
       "        [0., 0., 0.],\n",
       "        [0., 0., 0.],\n",
       "        [0., 0., 0.]])"
      ]
     },
     "execution_count": 52,
     "metadata": {},
     "output_type": "execute_result"
    }
   ],
   "source": [
    "# tạo tensor với các giá trị chưa khởi tạo vào kích thước được chỉ định\n",
    "torch.empty(4, 3)"
   ]
  },
  {
   "cell_type": "code",
   "execution_count": 53,
   "id": "bfc66df1",
   "metadata": {},
   "outputs": [
    {
     "data": {
      "text/plain": [
       "tensor([[22, 22, 22],\n",
       "        [22, 22, 22],\n",
       "        [22, 22, 22]])"
      ]
     },
     "execution_count": 53,
     "metadata": {},
     "output_type": "execute_result"
    }
   ],
   "source": [
    "# điền giá trị vào tensor có kích thước được chỉ định\n",
    "torch.full((3, 3), 22)"
   ]
  },
  {
   "cell_type": "code",
   "execution_count": 55,
   "id": "8e5cf4a8",
   "metadata": {},
   "outputs": [
    {
     "data": {
      "text/plain": [
       "(tensor([[[1, 2, 3],\n",
       "          [4, 5, 6]],\n",
       " \n",
       "         [[3, 3, 4],\n",
       "          [1, 2, 6]]], dtype=torch.int32),\n",
       " tensor([[[5, 5, 5],\n",
       "          [5, 5, 5]],\n",
       " \n",
       "         [[5, 5, 5],\n",
       "          [5, 5, 5]]], dtype=torch.int32))"
      ]
     },
     "execution_count": 55,
     "metadata": {},
     "output_type": "execute_result"
    }
   ],
   "source": [
    "# tạo tensor kích thước tương tự tensor chỉ định\n",
    "t1, torch.full_like(t1, 5)"
   ]
  },
  {
   "cell_type": "code",
   "execution_count": 67,
   "id": "003fb6c9",
   "metadata": {},
   "outputs": [
    {
     "data": {
      "text/plain": [
       "(tensor([1., 2., 3.]),\n",
       " tensor([0.6470, 0.6051, 0.6636]),\n",
       " tensor([[[1, 2, 3],\n",
       "          [4, 5, 6]],\n",
       " \n",
       "         [[3, 3, 4],\n",
       "          [1, 2, 6]]], dtype=torch.int32),\n",
       " tensor([[[20, 12, 10],\n",
       "          [18, 16, 10]],\n",
       " \n",
       "         [[12,  8, 13],\n",
       "          [21, 10, 16]]], dtype=torch.int32))"
      ]
     },
     "execution_count": 67,
     "metadata": {},
     "output_type": "execute_result"
    }
   ],
   "source": [
    "t1 = t1.float() # đưa về đúng kiểu dữ liệu\n",
    "t1, torch.rand_like(t1), t10, torch.randint_like(t10, 3, 22)"
   ]
  },
  {
   "cell_type": "code",
   "execution_count": 70,
   "id": "49292165",
   "metadata": {},
   "outputs": [
    {
     "data": {
      "text/plain": [
       "(tensor([2.0000, 1.1000]),\n",
       " tensor([0., 0.]),\n",
       " tensor([2.0000, 1.1000]),\n",
       " tensor([1., 1.]))"
      ]
     },
     "execution_count": 70,
     "metadata": {},
     "output_type": "execute_result"
    }
   ],
   "source": [
    "t5, torch.zeros_like(t5), t5, torch.ones_like(t5)"
   ]
  },
  {
   "attachments": {},
   "cell_type": "markdown",
   "id": "18e537ba",
   "metadata": {},
   "source": [
    "### 4. Chuyển từ tensor sang các kiểu dữ liệu khác"
   ]
  },
  {
   "cell_type": "code",
   "execution_count": 73,
   "id": "71e97343",
   "metadata": {},
   "outputs": [
    {
     "data": {
      "text/plain": [
       "(tensor([1., 2., 3.]),\n",
       " array([1., 2., 3.], dtype=float32),\n",
       " array([1., 2., 3.], dtype=float32))"
      ]
     },
     "execution_count": 73,
     "metadata": {},
     "output_type": "execute_result"
    }
   ],
   "source": [
    "# chuyển tensor về mạng\n",
    "t1, t1.numpy(), np.array(t1)"
   ]
  },
  {
   "cell_type": "code",
   "execution_count": 74,
   "id": "b77f0ef7",
   "metadata": {},
   "outputs": [
    {
     "data": {
      "text/plain": [
       "([1.0, 2.0, 3.0], [tensor(1.), tensor(2.), tensor(3.)])"
      ]
     },
     "execution_count": 74,
     "metadata": {},
     "output_type": "execute_result"
    }
   ],
   "source": [
    "# chuyển tensor thành 1 list\n",
    "\n",
    "t1.tolist(), list(t1)"
   ]
  },
  {
   "cell_type": "code",
   "execution_count": 76,
   "id": "dc91aee7",
   "metadata": {},
   "outputs": [
    {
     "data": {
      "text/plain": [
       "(tensor(1), 1)"
      ]
     },
     "execution_count": 76,
     "metadata": {},
     "output_type": "execute_result"
    }
   ],
   "source": [
    "# chuyển đổi tensor 0 chiều về giá trị\n",
    "t8, t8.item()"
   ]
  },
  {
   "attachments": {},
   "cell_type": "markdown",
   "id": "1d31ce52",
   "metadata": {},
   "source": [
    "### 5. Tạo các bản sao\n",
    "- Shallow copy là quá trình sao chép tham chiếu đến vùng nhớ của tensor gốc. Khi thực hiện shallow copy, ta tạo ra một tensor mới có cùng dữ liệu với tensor gốc, nhưng các thay đổi trong tensor mới sẽ được phản ánh trực tiếp trên tensor gốc. \n",
    "\n",
    "- Deep copy là quá trình sao chép một bản sao hoàn toàn mới của tensor, bao gồm cả dữ liệu và kích thước. Khi thực hiện deep copy, ta tạo ra một tensor mới, hoàn toàn độc lập với tensor gốc. Các thay đổi trong tensor mới sẽ không ảnh hưởng đến tensor gốc và ngược lại. "
   ]
  },
  {
   "cell_type": "code",
   "execution_count": 81,
   "id": "6cf37ed8",
   "metadata": {},
   "outputs": [
    {
     "data": {
      "text/plain": [
       "(tensor([ 3,  6,  9, 12]), tensor([ 3,  6,  9, 12]), tensor(6))"
      ]
     },
     "execution_count": 81,
     "metadata": {},
     "output_type": "execute_result"
    }
   ],
   "source": [
    "t12 = torch.arange(3, 15, 3)\n",
    "t13 = t12 # cả 2 cùng trỏ đến một đối tượng\n",
    "t12, t13, t12[1]"
   ]
  },
  {
   "cell_type": "code",
   "execution_count": 82,
   "id": "55900638",
   "metadata": {},
   "outputs": [
    {
     "data": {
      "text/plain": [
       "(tensor([ 3, 22,  9, 12]), tensor([ 3, 22,  9, 12]))"
      ]
     },
     "execution_count": 82,
     "metadata": {},
     "output_type": "execute_result"
    }
   ],
   "source": [
    "t12[1] = 22\n",
    "t12, t13"
   ]
  },
  {
   "cell_type": "code",
   "execution_count": 83,
   "id": "f247e37e",
   "metadata": {},
   "outputs": [
    {
     "data": {
      "text/plain": [
       "(tensor([ 3, 22,  9,  0]), tensor([ 3, 22,  9,  0]))"
      ]
     },
     "execution_count": 83,
     "metadata": {},
     "output_type": "execute_result"
    }
   ],
   "source": [
    "t13[3] = 0\n",
    "t12, t13"
   ]
  },
  {
   "cell_type": "code",
   "execution_count": 86,
   "id": "3d2003d3",
   "metadata": {},
   "outputs": [
    {
     "data": {
      "text/plain": [
       "(tensor([ 3, 22,  9,  0]), tensor([ 3, 22,  9,  0]), tensor([ 3, 22,  9,  0]))"
      ]
     },
     "execution_count": 86,
     "metadata": {},
     "output_type": "execute_result"
    }
   ],
   "source": [
    "# \n",
    "t14 = t12.clone() # t14 được trỏ đến đối tượng mới\n",
    "t12, t13, t14"
   ]
  },
  {
   "cell_type": "code",
   "execution_count": 87,
   "id": "ffce6736",
   "metadata": {},
   "outputs": [
    {
     "data": {
      "text/plain": [
       "(tensor([99, 22,  9,  0]), tensor([99, 22,  9,  0]), tensor([ 3, 22,  9,  0]))"
      ]
     },
     "execution_count": 87,
     "metadata": {},
     "output_type": "execute_result"
    }
   ],
   "source": [
    "t12[0] = 99\n",
    "t12, t13, t14"
   ]
  },
  {
   "cell_type": "code",
   "execution_count": 88,
   "id": "bf73ad70",
   "metadata": {},
   "outputs": [
    {
     "data": {
      "text/plain": [
       "(tensor([99, 22,  9,  0]), tensor([99, 22,  9,  0]), tensor([ 3, 22, 15,  0]))"
      ]
     },
     "execution_count": 88,
     "metadata": {},
     "output_type": "execute_result"
    }
   ],
   "source": [
    "t14[2] = 15\n",
    "t12, t13, t14"
   ]
  },
  {
   "cell_type": "code",
   "execution_count": null,
   "id": "b741212a",
   "metadata": {},
   "outputs": [],
   "source": []
  }
 ],
 "metadata": {
  "kernelspec": {
   "display_name": "Python 3 (ipykernel)",
   "language": "python",
   "name": "python3"
  },
  "language_info": {
   "codemirror_mode": {
    "name": "ipython",
    "version": 3
   },
   "file_extension": ".py",
   "mimetype": "text/x-python",
   "name": "python",
   "nbconvert_exporter": "python",
   "pygments_lexer": "ipython3",
   "version": "3.10.4"
  }
 },
 "nbformat": 4,
 "nbformat_minor": 5
}
