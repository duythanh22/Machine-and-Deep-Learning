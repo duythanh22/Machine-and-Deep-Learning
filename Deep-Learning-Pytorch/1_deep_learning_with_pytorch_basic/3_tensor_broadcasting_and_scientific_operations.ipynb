{
 "cells": [
  {
   "cell_type": "markdown",
   "id": "5364799f",
   "metadata": {},
   "source": [
    "Là loại dữ liệu cơ bản để thực hiện các thuật toán học sâu trong PyTorch, Tensor cũng có rất nhiều hàm toán học và phương pháp tính toán tương ứng với một loạt các quy tắc tính toán. Trong PyTorch, các phép tính được áp dụng trên Tensor được gọi chung là toán tử (operations). So với NumPy, PyTorch cung cấp phân loại toán tử (phép tính) cụ thể hơn, giúp người dùng dễ dàng lựa chọn toán tử (phép tính) phù hợp với các tình huống khác nhau.\n",
    "\n",
    "PyTorch đã thiết kế sáu loại phép tính toán học cho Tensor, bao gồm:\n",
    "\n",
    "- `Phép tính điểm (Pointwise Ops)`: thực hiện các phép tính giống nhau trên từng phần tử trong Tensor.\n",
    "- `Phép tính rút gọn (Reduction Ops)`: thực hiện các phép tính trên một Tensor để thu được một giá trị tóm tắt.\n",
    "- `Phép so sánh (Comparison Ops)`: thực hiện các phép so sánh giữa nhiều Tensor.\n",
    "- `Phép tính phổ (Spectral Ops)`: thực hiện các phép tính liên quan đến biến đổi Fourier trong xử lý tín hiệu.\n",
    "- `Phép tính BLAS và LAPACK`: thực hiện các hàm và phương pháp chính được định nghĩa trong bộ phần mềm Basic Linear Algeria Subprograms và Linear Algeria Package, được sử dụng chủ yếu trong tính toán khoa học tuyến tính.\n",
    "- `Các phép tính khác (Other Ops)`: các phép tính toán học không được phân loại vào các loại trên."
   ]
  },
  {
   "cell_type": "markdown",
   "id": "3e4b4000",
   "metadata": {},
   "source": [
    "## 1. Tensor broadcasting\n",
    "Tensor broadcasting là một tính năng trong PyTorch (và NumPy) cho phép các phép toán được thực hiện trên các tensor có kích thước khác nhau. Nó cho phép PyTorch tự động mở rộng các tensor với số chiều thấp hơn cho phù hợp với số chiều cao hơn và thực hiện phép toán giữa chúng. Trong quá trình broadcasting, các phép toán được thực hiện trên các tensor có kích thước khác nhau nhưng các phép toán đó được thực hiện theo các quy tắc được xác định trước để đảm bảo tính chính xác và hiệu quả của phép toán."
   ]
  },
  {
   "cell_type": "code",
   "execution_count": 1,
   "id": "954c8601",
   "metadata": {},
   "outputs": [],
   "source": [
    "import torch"
   ]
  },
  {
   "cell_type": "markdown",
   "id": "a1b30811",
   "metadata": {},
   "source": [
    "### 1.1. Tính toán trên các tensor cùng hình dạng"
   ]
  },
  {
   "cell_type": "code",
   "execution_count": 2,
   "id": "56c196de",
   "metadata": {},
   "outputs": [
    {
     "data": {
      "text/plain": [
       "tensor([0, 1, 2])"
      ]
     },
     "execution_count": 2,
     "metadata": {},
     "output_type": "execute_result"
    }
   ],
   "source": [
    "# tính toán trên các tensor cùng hình dạng\n",
    "\n",
    "t1 = torch.arange(3)\n",
    "t1"
   ]
  },
  {
   "cell_type": "code",
   "execution_count": 3,
   "id": "c5ffec45",
   "metadata": {},
   "outputs": [
    {
     "data": {
      "text/plain": [
       "tensor([0, 2, 4])"
      ]
     },
     "execution_count": 3,
     "metadata": {},
     "output_type": "execute_result"
    }
   ],
   "source": [
    "t1 + t1"
   ]
  },
  {
   "cell_type": "code",
   "execution_count": 4,
   "id": "16aaa9cc",
   "metadata": {},
   "outputs": [
    {
     "data": {
      "text/plain": [
       "(tensor([3, 4, 5]), tensor([3, 4, 5]))"
      ]
     },
     "execution_count": 4,
     "metadata": {},
     "output_type": "execute_result"
    }
   ],
   "source": [
    "# tensor với một số\n",
    "\n",
    "t1 + 3, t1 + torch.tensor(3)"
   ]
  },
  {
   "cell_type": "code",
   "execution_count": 5,
   "id": "ed3eeb89",
   "metadata": {},
   "outputs": [
    {
     "data": {
      "text/plain": [
       "(tensor([[-0.8862,  0.5172,  0.9409,  0.0777],\n",
       "         [-1.2430, -0.2594, -1.6787,  2.0074],\n",
       "         [-0.2995,  0.6411,  0.6727, -1.9627]]),\n",
       " tensor([[2.1138, 3.5172, 3.9409, 3.0777],\n",
       "         [1.7570, 2.7406, 1.3213, 5.0074],\n",
       "         [2.7005, 3.6411, 3.6727, 1.0373]]))"
      ]
     },
     "execution_count": 5,
     "metadata": {},
     "output_type": "execute_result"
    }
   ],
   "source": [
    "# vector 2D với một số\n",
    "t2 = torch.randn(3, 4)\n",
    "t2, t2 + 3"
   ]
  },
  {
   "cell_type": "code",
   "execution_count": 6,
   "id": "3844a1c0",
   "metadata": {},
   "outputs": [
    {
     "data": {
      "text/plain": [
       "(torch.Size([1, 4]), torch.Size([3, 4]))"
      ]
     },
     "execution_count": 6,
     "metadata": {},
     "output_type": "execute_result"
    }
   ],
   "source": [
    "t3 = torch.ones(1, 4)\n",
    "t3.shape, t2.shape # cùng kích thước"
   ]
  },
  {
   "cell_type": "markdown",
   "id": "7c7a1c47",
   "metadata": {},
   "source": [
    "### 1.2. Tensor khác hình dạng\n",
    "Broadcasting là quá trình trong đó khi tính toán trên các tensor có hình dạng khác nhau, một hoặc nhiều tensor được chuyển đổi ngầm thành hai tensor có cùng hình dạng, từ đó hoàn thành phép tính."
   ]
  },
  {
   "cell_type": "code",
   "execution_count": 7,
   "id": "81512cea",
   "metadata": {},
   "outputs": [
    {
     "data": {
      "text/plain": [
       "(tensor([[-0.8862,  0.5172,  0.9409,  0.0777],\n",
       "         [-1.2430, -0.2594, -1.6787,  2.0074],\n",
       "         [-0.2995,  0.6411,  0.6727, -1.9627]]),\n",
       " tensor([[1., 1., 1., 1.]]),\n",
       " tensor([[ 0.1138,  1.5172,  1.9409,  1.0777],\n",
       "         [-0.2430,  0.7406, -0.6787,  3.0074],\n",
       "         [ 0.7005,  1.6411,  1.6727, -0.9627]]))"
      ]
     },
     "execution_count": 7,
     "metadata": {},
     "output_type": "execute_result"
    }
   ],
   "source": [
    "# tensor khác hình dạng\n",
    "\n",
    "t2, t3, t2 + t3"
   ]
  },
  {
   "cell_type": "code",
   "execution_count": 8,
   "id": "4d9c6535",
   "metadata": {},
   "outputs": [
    {
     "data": {
      "text/plain": [
       "(tensor([[0],\n",
       "         [7],\n",
       "         [8]]),\n",
       " torch.Size([3, 1]))"
      ]
     },
     "execution_count": 8,
     "metadata": {},
     "output_type": "execute_result"
    }
   ],
   "source": [
    "t4 = torch.randint(10, size = (3, 1))\n",
    "t4, t4.shape"
   ]
  },
  {
   "cell_type": "code",
   "execution_count": 9,
   "id": "78ce6165",
   "metadata": {},
   "outputs": [
    {
     "data": {
      "text/plain": [
       "tensor([[-0.8862,  0.5172,  0.9409,  0.0777],\n",
       "        [ 5.7570,  6.7406,  5.3213,  9.0074],\n",
       "        [ 7.7005,  8.6411,  8.6727,  6.0373]])"
      ]
     },
     "execution_count": 9,
     "metadata": {},
     "output_type": "execute_result"
    }
   ],
   "source": [
    "# torch.rand(2, 4) + t2 -> RuntimeError: vì chiều đầu tiên của tensor khác 1\n",
    "\n",
    "t2 + t4"
   ]
  },
  {
   "cell_type": "code",
   "execution_count": 10,
   "id": "a35b45ae",
   "metadata": {},
   "outputs": [
    {
     "data": {
      "text/plain": [
       "(tensor([[3, 3, 3, 3, 3]]),\n",
       " tensor([[0],\n",
       "         [7],\n",
       "         [8]]),\n",
       " tensor([[ 3,  3,  3,  3,  3],\n",
       "         [-4, -4, -4, -4, -4],\n",
       "         [-5, -5, -5, -5, -5]]))"
      ]
     },
     "execution_count": 10,
     "metadata": {},
     "output_type": "execute_result"
    }
   ],
   "source": [
    "t5 = torch.full((1, 5), 3) # một chiều thành phần có kích thước là 1\n",
    "t5, t4,  t5 - t4"
   ]
  },
  {
   "cell_type": "code",
   "execution_count": 11,
   "id": "cb9e5719",
   "metadata": {},
   "outputs": [
    {
     "data": {
      "text/plain": [
       "(tensor([[[ 9, 19,  7,  5, 21],\n",
       "          [ 7, 17,  5,  8,  0],\n",
       "          [15,  4,  1,  5, 19],\n",
       "          [ 2,  3,  7,  6, 19]],\n",
       " \n",
       "         [[10, 10, 20,  3, 20],\n",
       "          [ 9,  7, 19,  2, 11],\n",
       "          [12,  8,  7,  8,  0],\n",
       "          [10, 13,  8, 17, 13]],\n",
       " \n",
       "         [[ 2, 12,  8,  6,  9],\n",
       "          [15,  4,  8,  9, 11],\n",
       "          [ 4, 11, 16,  9, 15],\n",
       "          [ 3, 21, 10,  1, 21]]]),\n",
       " tensor([[[1.],\n",
       "          [1.],\n",
       "          [1.],\n",
       "          [1.]],\n",
       " \n",
       "         [[1.],\n",
       "          [1.],\n",
       "          [1.],\n",
       "          [1.]],\n",
       " \n",
       "         [[1.],\n",
       "          [1.],\n",
       "          [1.],\n",
       "          [1.]]]),\n",
       " tensor([[[10., 20.,  8.,  6., 22.],\n",
       "          [ 8., 18.,  6.,  9.,  1.],\n",
       "          [16.,  5.,  2.,  6., 20.],\n",
       "          [ 3.,  4.,  8.,  7., 20.]],\n",
       " \n",
       "         [[11., 11., 21.,  4., 21.],\n",
       "          [10.,  8., 20.,  3., 12.],\n",
       "          [13.,  9.,  8.,  9.,  1.],\n",
       "          [11., 14.,  9., 18., 14.]],\n",
       " \n",
       "         [[ 3., 13.,  9.,  7., 10.],\n",
       "          [16.,  5.,  9., 10., 12.],\n",
       "          [ 5., 12., 17., 10., 16.],\n",
       "          [ 4., 22., 11.,  2., 22.]]]))"
      ]
     },
     "execution_count": 11,
     "metadata": {},
     "output_type": "execute_result"
    }
   ],
   "source": [
    "# thực hiện với tensor 3D\n",
    "\n",
    "t6 = torch.randint(22, size = (3,4,5))\n",
    "t7 = torch.ones(3, 4, 1)\n",
    "\n",
    "t6, t7, t6 + t7"
   ]
  },
  {
   "cell_type": "code",
   "execution_count": 12,
   "id": "c10a4df0",
   "metadata": {},
   "outputs": [
    {
     "data": {
      "text/plain": [
       "(tensor([[[ 9, 19,  7,  5, 21],\n",
       "          [ 7, 17,  5,  8,  0],\n",
       "          [15,  4,  1,  5, 19],\n",
       "          [ 2,  3,  7,  6, 19]],\n",
       " \n",
       "         [[10, 10, 20,  3, 20],\n",
       "          [ 9,  7, 19,  2, 11],\n",
       "          [12,  8,  7,  8,  0],\n",
       "          [10, 13,  8, 17, 13]],\n",
       " \n",
       "         [[ 2, 12,  8,  6,  9],\n",
       "          [15,  4,  8,  9, 11],\n",
       "          [ 4, 11, 16,  9, 15],\n",
       "          [ 3, 21, 10,  1, 21]]]),\n",
       " tensor([[[-0.3598, -1.2465,  2.0219, -0.9745,  0.0860]],\n",
       " \n",
       "         [[-0.3071, -0.6167, -1.7156, -0.3513, -0.9697]],\n",
       " \n",
       "         [[-0.0150,  0.1999, -0.5331, -0.1750, -0.8225]]]),\n",
       " tensor([[[-3.2381e+00, -2.3683e+01,  1.4153e+01, -4.8723e+00,  1.8066e+00],\n",
       "          [-2.5185e+00, -2.1190e+01,  1.0109e+01, -7.7956e+00,  0.0000e+00],\n",
       "          [-5.3969e+00, -4.9860e+00,  2.0219e+00, -4.8723e+00,  1.6345e+00],\n",
       "          [-7.1958e-01, -3.7395e+00,  1.4153e+01, -5.8467e+00,  1.6345e+00]],\n",
       " \n",
       "         [[-3.0705e+00, -6.1672e+00, -3.4312e+01, -1.0540e+00, -1.9395e+01],\n",
       "          [-2.7635e+00, -4.3170e+00, -3.2597e+01, -7.0267e-01, -1.0667e+01],\n",
       "          [-3.6846e+00, -4.9338e+00, -1.2009e+01, -2.8107e+00, -0.0000e+00],\n",
       "          [-3.0705e+00, -8.0174e+00, -1.3725e+01, -5.9727e+00, -1.2607e+01]],\n",
       " \n",
       "         [[-3.0067e-02,  2.3993e+00, -4.2648e+00, -1.0500e+00, -7.4029e+00],\n",
       "          [-2.2550e-01,  7.9977e-01, -4.2648e+00, -1.5750e+00, -9.0479e+00],\n",
       "          [-6.0134e-02,  2.1994e+00, -8.5295e+00, -1.5750e+00, -1.2338e+01],\n",
       "          [-4.5100e-02,  4.1988e+00, -5.3310e+00, -1.7500e-01, -1.7273e+01]]]))"
      ]
     },
     "execution_count": 12,
     "metadata": {},
     "output_type": "execute_result"
    }
   ],
   "source": [
    "t8 = torch.randn(3, 1, 5)\n",
    "t6, t8, t6*t8"
   ]
  },
  {
   "cell_type": "code",
   "execution_count": 13,
   "id": "dd4a7066",
   "metadata": {},
   "outputs": [
    {
     "data": {
      "text/plain": [
       "tensor([[[12.1500, 22.1500, 10.1500,  8.1500, 24.1500],\n",
       "         [10.1500, 20.1500,  8.1500, 11.1500,  3.1500],\n",
       "         [18.1500,  7.1500,  4.1500,  8.1500, 22.1500],\n",
       "         [ 5.1500,  6.1500, 10.1500,  9.1500, 22.1500]],\n",
       "\n",
       "        [[13.1500, 13.1500, 23.1500,  6.1500, 23.1500],\n",
       "         [12.1500, 10.1500, 22.1500,  5.1500, 14.1500],\n",
       "         [15.1500, 11.1500, 10.1500, 11.1500,  3.1500],\n",
       "         [13.1500, 16.1500, 11.1500, 20.1500, 16.1500]],\n",
       "\n",
       "        [[ 5.1500, 15.1500, 11.1500,  9.1500, 12.1500],\n",
       "         [18.1500,  7.1500, 11.1500, 12.1500, 14.1500],\n",
       "         [ 7.1500, 14.1500, 19.1500, 12.1500, 18.1500],\n",
       "         [ 6.1500, 24.1500, 13.1500,  4.1500, 24.1500]]])"
      ]
     },
     "execution_count": 13,
     "metadata": {},
     "output_type": "execute_result"
    }
   ],
   "source": [
    "t9 = torch.full((3, 1, 1), 3.15) # hai thành phần còn lại có kích thước là 1 \n",
    "\n",
    "t6 + t9"
   ]
  },
  {
   "cell_type": "code",
   "execution_count": 14,
   "id": "80b9dfc3",
   "metadata": {},
   "outputs": [
    {
     "data": {
      "text/plain": [
       "(tensor([[[1.],\n",
       "          [1.],\n",
       "          [1.],\n",
       "          [1.]],\n",
       " \n",
       "         [[1.],\n",
       "          [1.],\n",
       "          [1.],\n",
       "          [1.]],\n",
       " \n",
       "         [[1.],\n",
       "          [1.],\n",
       "          [1.],\n",
       "          [1.]]]),\n",
       " torch.Size([3, 4, 1]),\n",
       " tensor([[[-0.3598, -1.2465,  2.0219, -0.9745,  0.0860]],\n",
       " \n",
       "         [[-0.3071, -0.6167, -1.7156, -0.3513, -0.9697]],\n",
       " \n",
       "         [[-0.0150,  0.1999, -0.5331, -0.1750, -0.8225]]]),\n",
       " torch.Size([3, 1, 5]),\n",
       " tensor([[[ 1.3598,  2.2465, -1.0219,  1.9745,  0.9140],\n",
       "          [ 1.3598,  2.2465, -1.0219,  1.9745,  0.9140],\n",
       "          [ 1.3598,  2.2465, -1.0219,  1.9745,  0.9140],\n",
       "          [ 1.3598,  2.2465, -1.0219,  1.9745,  0.9140]],\n",
       " \n",
       "         [[ 1.3071,  1.6167,  2.7156,  1.3513,  1.9697],\n",
       "          [ 1.3071,  1.6167,  2.7156,  1.3513,  1.9697],\n",
       "          [ 1.3071,  1.6167,  2.7156,  1.3513,  1.9697],\n",
       "          [ 1.3071,  1.6167,  2.7156,  1.3513,  1.9697]],\n",
       " \n",
       "         [[ 1.0150,  0.8001,  1.5331,  1.1750,  1.8225],\n",
       "          [ 1.0150,  0.8001,  1.5331,  1.1750,  1.8225],\n",
       "          [ 1.0150,  0.8001,  1.5331,  1.1750,  1.8225],\n",
       "          [ 1.0150,  0.8001,  1.5331,  1.1750,  1.8225]]]))"
      ]
     },
     "execution_count": 14,
     "metadata": {},
     "output_type": "execute_result"
    }
   ],
   "source": [
    "t7, t7.shape, t8, t8.shape, t7-t8"
   ]
  },
  {
   "cell_type": "markdown",
   "id": "b3e83567",
   "metadata": {},
   "source": [
    "### 1.3. Tensor khác chiều\n",
    "\n",
    "Đối với các tensor có số chiều khác nhau, đầu tiên có thể nâng tensor có số chiều thấp lên chiều cao hơn, sau đó áp dụng quy tắc broadcasting của các tensor có cùng chiều khác hình dạng. Việc nâng tensor có số chiều thấp lên chiều cao hơn."
   ]
  },
  {
   "cell_type": "code",
   "execution_count": 15,
   "id": "6988fade",
   "metadata": {},
   "outputs": [
    {
     "data": {
      "text/plain": [
       "tensor([[[0, 1],\n",
       "         [2, 3]]])"
      ]
     },
     "execution_count": 15,
     "metadata": {},
     "output_type": "execute_result"
    }
   ],
   "source": [
    "t10 = torch.arange(4).reshape(2, 2)\n",
    "t10.reshape(1,2,2)"
   ]
  },
  {
   "cell_type": "code",
   "execution_count": 16,
   "id": "b74b7260",
   "metadata": {},
   "outputs": [
    {
     "data": {
      "text/plain": [
       "(torch.Size([2, 2]),\n",
       " torch.Size([3, 2, 2]),\n",
       " tensor([[[ 0,  2],\n",
       "          [ 4,  6]],\n",
       " \n",
       "         [[ 4,  6],\n",
       "          [ 8, 10]],\n",
       " \n",
       "         [[ 8, 10],\n",
       "          [12, 14]]]))"
      ]
     },
     "execution_count": 16,
     "metadata": {},
     "output_type": "execute_result"
    }
   ],
   "source": [
    "t11 = torch.arange(12).reshape(3,2,2)\n",
    "t10.shape, t11.shape, t10+t11"
   ]
  },
  {
   "cell_type": "markdown",
   "id": "dd468747",
   "metadata": {},
   "source": [
    "## 2. Phép tính điểm (Pointwise Ops)\n",
    "Trong PyTorch, phần lớn phép tính điểm đều áp dụng cho từng phần tử trong Tensor và là các phép tính toán học phổ biến, tương tự như các phép tính trên mảng trong NumPy. Các phép tính này chủ yếu bao gồm các phép tính toán cơ bản, phép điều chỉnh giá trị và phép tính khoa học dữ liệu.\n",
    "\n",
    "### 2.1. Các phép toán cơ bản"
   ]
  },
  {
   "cell_type": "code",
   "execution_count": 17,
   "id": "f345e6b7",
   "metadata": {},
   "outputs": [
    {
     "data": {
      "text/plain": [
       "(tensor([[ 0,  1,  2,  3],\n",
       "         [ 4,  5,  6,  7],\n",
       "         [ 8,  9, 10, 11]]),\n",
       " tensor([[0.0884, 0.8203, 0.8881, 0.9674],\n",
       "         [0.2355, 0.1630, 0.6093, 0.7927],\n",
       "         [0.3258, 0.1815, 0.9128, 0.2291]]))"
      ]
     },
     "execution_count": 17,
     "metadata": {},
     "output_type": "execute_result"
    }
   ],
   "source": [
    "a = torch.arange(12).reshape(3, 4)\n",
    "b = torch.rand(3, 4)\n",
    "a, b"
   ]
  },
  {
   "cell_type": "code",
   "execution_count": 18,
   "id": "4e84e29e",
   "metadata": {},
   "outputs": [
    {
     "data": {
      "text/plain": [
       "(tensor([[ 0.0884,  1.8203,  2.8881,  3.9674],\n",
       "         [ 4.2355,  5.1630,  6.6093,  7.7927],\n",
       "         [ 8.3258,  9.1815, 10.9128, 11.2291]]),\n",
       " tensor([[ 0.0884,  1.8203,  2.8881,  3.9674],\n",
       "         [ 4.2355,  5.1630,  6.6093,  7.7927],\n",
       "         [ 8.3258,  9.1815, 10.9128, 11.2291]]))"
      ]
     },
     "execution_count": 18,
     "metadata": {},
     "output_type": "execute_result"
    }
   ],
   "source": [
    "torch.add(a, b), a+b"
   ]
  },
  {
   "cell_type": "code",
   "execution_count": 19,
   "id": "dacadcb6",
   "metadata": {},
   "outputs": [
    {
     "data": {
      "text/plain": [
       "(tensor([[-0.0884,  0.1797,  1.1119,  2.0326],\n",
       "         [ 3.7645,  4.8370,  5.3907,  6.2073],\n",
       "         [ 7.6742,  8.8185,  9.0872, 10.7709]]),\n",
       " tensor([[-0.0884,  0.1797,  1.1119,  2.0326],\n",
       "         [ 3.7645,  4.8370,  5.3907,  6.2073],\n",
       "         [ 7.6742,  8.8185,  9.0872, 10.7709]]))"
      ]
     },
     "execution_count": 19,
     "metadata": {},
     "output_type": "execute_result"
    }
   ],
   "source": [
    "torch.subtract(a, b), a-b"
   ]
  },
  {
   "cell_type": "code",
   "execution_count": 20,
   "id": "2cab0ea5",
   "metadata": {},
   "outputs": [
    {
     "data": {
      "text/plain": [
       "(tensor([[0.0000, 0.8203, 1.7762, 2.9021],\n",
       "         [0.9419, 0.8151, 3.6557, 5.5489],\n",
       "         [2.6061, 1.6337, 9.1283, 2.5202]]),\n",
       " tensor([[0.0000, 0.8203, 1.7762, 2.9021],\n",
       "         [0.9419, 0.8151, 3.6557, 5.5489],\n",
       "         [2.6061, 1.6337, 9.1283, 2.5202]]))"
      ]
     },
     "execution_count": 20,
     "metadata": {},
     "output_type": "execute_result"
    }
   ],
   "source": [
    "torch.multiply(a, b), a*b"
   ]
  },
  {
   "cell_type": "code",
   "execution_count": 21,
   "id": "41c87ab1",
   "metadata": {},
   "outputs": [
    {
     "data": {
      "text/plain": [
       "(tensor([[ 0.0000,  1.2191,  2.2520,  3.1012],\n",
       "         [16.9869, 30.6704,  9.8476,  8.8306],\n",
       "         [24.5581, 49.5795, 10.9549, 48.0117]]),\n",
       " tensor([[ 0.0000,  1.2191,  2.2520,  3.1012],\n",
       "         [16.9869, 30.6704,  9.8476,  8.8306],\n",
       "         [24.5581, 49.5795, 10.9549, 48.0117]]))"
      ]
     },
     "execution_count": 21,
     "metadata": {},
     "output_type": "execute_result"
    }
   ],
   "source": [
    "torch.divide(a, b), a/b"
   ]
  },
  {
   "cell_type": "markdown",
   "id": "819d45a5",
   "metadata": {},
   "source": [
    "### 2.2. Các thao tác điều chỉnh giá trị\n"
   ]
  },
  {
   "cell_type": "code",
   "execution_count": 22,
   "id": "a02f9e08",
   "metadata": {},
   "outputs": [
    {
     "data": {
      "text/plain": [
       "tensor([[1.4280, 1.7283, 0.7939, 0.0654],\n",
       "        [1.4113, 0.9736, 0.0926, 0.7464],\n",
       "        [0.2469, 0.6317, 0.3020, 2.9542]])"
      ]
     },
     "execution_count": 22,
     "metadata": {},
     "output_type": "execute_result"
    }
   ],
   "source": [
    "t12 = torch.rand(3,4) * 3\n",
    "t12"
   ]
  },
  {
   "cell_type": "code",
   "execution_count": 23,
   "id": "02638595",
   "metadata": {},
   "outputs": [
    {
     "data": {
      "text/plain": [
       "(tensor([[1.4280, 1.7283, 0.7939, 0.0654],\n",
       "         [1.4113, 0.9736, 0.0926, 0.7464],\n",
       "         [0.2469, 0.6317, 0.3020, 2.9542]]),\n",
       " tensor([[1.4280, 1.7283, 0.7939, 0.0654],\n",
       "         [1.4113, 0.9736, 0.0926, 0.7464],\n",
       "         [0.2469, 0.6317, 0.3020, 2.9542]]),\n",
       " tensor([[2., 2., 1., 1.],\n",
       "         [2., 1., 1., 1.],\n",
       "         [1., 1., 1., 3.]]),\n",
       " tensor([[1., 1., 0., 0.],\n",
       "         [1., 0., 0., 0.],\n",
       "         [0., 0., 0., 2.]]),\n",
       " tensor([[1., 2., 1., 0.],\n",
       "         [1., 1., 0., 1.],\n",
       "         [0., 1., 0., 3.]]),\n",
       " tensor([[-1.4280, -1.7283, -0.7939, -0.0654],\n",
       "         [-1.4113, -0.9736, -0.0926, -0.7464],\n",
       "         [-0.2469, -0.6317, -0.3020, -2.9542]]))"
      ]
     },
     "execution_count": 23,
     "metadata": {},
     "output_type": "execute_result"
    }
   ],
   "source": [
    "# trị tuyệt đối, làm tròn lên, xuống, tiêu chuẩn, đảo\n",
    "t12, torch.abs(t12), torch.ceil(t12), torch.floor(t12), torch.round(t12), torch.neg(t12)"
   ]
  },
  {
   "cell_type": "code",
   "execution_count": 24,
   "id": "b20b5de4",
   "metadata": {},
   "outputs": [
    {
     "data": {
      "text/plain": [
       "(tensor([[1.4280, 1.7283, 0.7939, 0.0654],\n",
       "         [1.4113, 0.9736, 0.0926, 0.7464],\n",
       "         [0.2469, 0.6317, 0.3020, 2.9542]]),\n",
       " tensor([[1.4280, 1.7283, 0.7939, 0.0654],\n",
       "         [1.4113, 0.9736, 0.0926, 0.7464],\n",
       "         [0.2469, 0.6317, 0.3020, 2.9542]]),\n",
       " tensor([[1.4280, 1.7283, 0.7939, 0.0654],\n",
       "         [1.4113, 0.9736, 0.0926, 0.7464],\n",
       "         [0.2469, 0.6317, 0.3020, 2.9542]]))"
      ]
     },
     "execution_count": 24,
     "metadata": {},
     "output_type": "execute_result"
    }
   ],
   "source": [
    "t13, t14 = t12.clone(), t12.clone()\n",
    "t12, t13, t14"
   ]
  },
  {
   "cell_type": "code",
   "execution_count": 25,
   "id": "6d98d53f",
   "metadata": {},
   "outputs": [
    {
     "data": {
      "text/plain": [
       "(tensor([[1.4280, 1.7283, 0.7939, 0.0654],\n",
       "         [1.4113, 0.9736, 0.0926, 0.7464],\n",
       "         [0.2469, 0.6317, 0.3020, 2.9542]]),\n",
       " tensor([[1.4280, 1.7283, 0.7939, 0.0654],\n",
       "         [1.4113, 0.9736, 0.0926, 0.7464],\n",
       "         [0.2469, 0.6317, 0.3020, 2.9542]]),\n",
       " tensor([[1., 2., 1., 0.],\n",
       "         [1., 1., 0., 1.],\n",
       "         [0., 1., 0., 3.]]),\n",
       " tensor([[1., 2., 1., 0.],\n",
       "         [1., 1., 0., 1.],\n",
       "         [0., 1., 0., 3.]]))"
      ]
     },
     "execution_count": 25,
     "metadata": {},
     "output_type": "execute_result"
    }
   ],
   "source": [
    "# sử dụng '_()' giúp thay đổi trực tiếp giá trị đối tượng gốc\n",
    "\n",
    "torch.abs_(t13), t13, torch.round_(t14), t14"
   ]
  },
  {
   "cell_type": "code",
   "execution_count": 26,
   "id": "fa4981b0",
   "metadata": {},
   "outputs": [
    {
     "data": {
      "text/plain": [
       "(torch.Size([1, 3, 4]), torch.Size([1, 3, 4]))"
      ]
     },
     "execution_count": 26,
     "metadata": {},
     "output_type": "execute_result"
    }
   ],
   "source": [
    "# một số phương thức của pytorch có thể dùng '_()'\n",
    "\n",
    "t13.unsqueeze_(0).shape, t13.shape"
   ]
  },
  {
   "cell_type": "markdown",
   "id": "b2e2b1d7",
   "metadata": {},
   "source": [
    "### 2.3. Tính toán khoa học dữ liệu"
   ]
  },
  {
   "cell_type": "code",
   "execution_count": 27,
   "id": "1144e28c",
   "metadata": {},
   "outputs": [
    {
     "data": {
      "text/plain": [
       "(tensor([[[1.4280, 1.7283, 0.7939, 0.0654],\n",
       "          [1.4113, 0.9736, 0.0926, 0.7464],\n",
       "          [0.2469, 0.6317, 0.3020, 2.9542]]]),\n",
       " tensor([[[ 4.1705,  5.6313,  2.2121,  1.0676],\n",
       "          [ 4.1014,  2.6475,  1.0970,  2.1093],\n",
       "          [ 1.2801,  1.8809,  1.3525, 19.1856]]]),\n",
       " tensor([[[ 3.1705,  4.6313,  1.2121,  0.0676],\n",
       "          [ 3.1014,  1.6475,  0.0970,  1.1093],\n",
       "          [ 0.2801,  0.8809,  0.3525, 18.1856]]]),\n",
       " tensor([[[2.9121e+00, 5.1629e+00, 5.0047e-01, 2.7996e-04],\n",
       "          [2.8112e+00, 9.2295e-01, 7.9307e-04, 4.1575e-01],\n",
       "          [1.5052e-02, 2.5212e-01, 2.7534e-02, 2.5781e+01]]]),\n",
       " tensor([[[1.1950, 1.3147, 0.8910, 0.2558],\n",
       "          [1.1880, 0.9867, 0.3042, 0.8639],\n",
       "          [0.4969, 0.7948, 0.5495, 1.7188]]]),\n",
       " tensor([[[2.0393e+00, 2.9872e+00, 6.3036e-01, 4.2795e-03],\n",
       "          [1.9919e+00, 9.4795e-01, 8.5679e-03, 5.5704e-01],\n",
       "          [6.0964e-02, 3.9909e-01, 9.1184e-02, 8.7271e+00]]]))"
      ]
     },
     "execution_count": 27,
     "metadata": {},
     "output_type": "execute_result"
    }
   ],
   "source": [
    "t13, torch.exp(t13), torch.expm1(t13), torch.pow(t13, 3), torch.sqrt(t13), torch.square(t13)"
   ]
  },
  {
   "cell_type": "code",
   "execution_count": 28,
   "id": "2bb44560",
   "metadata": {},
   "outputs": [
    {
     "data": {
      "text/plain": [
       "(tensor([[[1.4280, 1.7283, 0.7939, 0.0654],\n",
       "          [1.4113, 0.9736, 0.0926, 0.7464],\n",
       "          [0.2469, 0.6317, 0.3020, 2.9542]]]),\n",
       " tensor([[[ 0.3563,  0.5472, -0.2307, -2.7270],\n",
       "          [ 0.3445, -0.0267, -2.3799, -0.2926],\n",
       "          [-1.3987, -0.4593, -1.1974,  1.0832]]]),\n",
       " tensor([[[ 0.1547,  0.2376, -0.1002, -1.1843],\n",
       "          [ 0.1496, -0.0116, -1.0336, -0.1271],\n",
       "          [-0.6075, -0.1995, -0.5200,  0.4704]]]),\n",
       " tensor([[[ 0.5140,  0.7894, -0.3329, -3.9342],\n",
       "          [ 0.4971, -0.0386, -3.4334, -0.4221],\n",
       "          [-2.0180, -0.6626, -1.7275,  1.5627]]]),\n",
       " tensor([[[0.8871, 1.0037, 0.5844, 0.0634],\n",
       "          [0.8802, 0.6799, 0.0885, 0.5575],\n",
       "          [0.2207, 0.4896, 0.2639, 1.3748]]]))"
      ]
     },
     "execution_count": 28,
     "metadata": {},
     "output_type": "execute_result"
    }
   ],
   "source": [
    "t13, torch.log(t13), torch.log10(t13), torch.log2(t13), torch.log1p(t13)"
   ]
  },
  {
   "cell_type": "code",
   "execution_count": 29,
   "id": "9ddc5faa",
   "metadata": {},
   "outputs": [
    {
     "data": {
      "text/plain": [
       "(tensor([[0, 1],\n",
       "         [2, 3]]),\n",
       " tensor([[0., 1.],\n",
       "         [2., 3.]]),\n",
       " tensor([[[ 0,  1],\n",
       "          [ 2,  3]],\n",
       " \n",
       "         [[ 4,  5],\n",
       "          [ 6,  7]],\n",
       " \n",
       "         [[ 8,  9],\n",
       "          [10, 11]]]),\n",
       " tensor([[[ 0.0000,  1.0000],\n",
       "          [ 2.0000,  3.0000]],\n",
       " \n",
       "         [[ 4.0000,  5.0000],\n",
       "          [ 6.0000,  7.0000]],\n",
       " \n",
       "         [[ 8.0000,  9.0000],\n",
       "          [10.0000, 11.0000]]]))"
      ]
     },
     "execution_count": 29,
     "metadata": {},
     "output_type": "execute_result"
    }
   ],
   "source": [
    "t10, torch.exp(torch.log(t10)), t11, torch.exp2(torch.log2(t11))"
   ]
  },
  {
   "cell_type": "code",
   "execution_count": 30,
   "id": "bc139f65",
   "metadata": {},
   "outputs": [
    {
     "data": {
      "text/plain": [
       "(tensor([[ 0.0000,  1.5708,  3.1416,  4.7124,  6.2832,  7.8540],\n",
       "         [ 9.4248, 10.9956, 12.5664, 14.1372, 15.7080, 17.2788],\n",
       "         [18.8496, 20.4204, 21.9911, 23.5619, 25.1327, 26.7035],\n",
       "         [28.2743, 29.8451, 31.4159, 32.9867, 34.5575, 36.1283],\n",
       "         [37.6991, 39.2699, 40.8407, 42.4115, 43.9823, 45.5531]]),\n",
       " tensor([[ 0.0000e+00,  1.0000e+00, -8.7423e-08, -1.0000e+00,  1.7485e-07,\n",
       "           1.0000e+00],\n",
       "         [-2.3850e-08, -1.0000e+00,  3.4969e-07,  1.0000e+00, -6.7553e-07,\n",
       "          -1.0000e+00],\n",
       "         [ 4.7700e-08,  1.0000e+00,  5.8013e-07, -1.0000e+00,  6.9938e-07,\n",
       "           1.0000e+00],\n",
       "         [-7.1549e-08, -1.0000e+00, -5.5628e-07,  1.0000e+00,  1.1841e-06,\n",
       "          -1.0000e+00],\n",
       "         [ 9.5399e-08,  1.0000e+00, -1.3749e-06, -1.0000e+00, -1.1603e-06,\n",
       "           1.0000e+00]]),\n",
       " tensor([[ 1.0000e+00, -4.3711e-08, -1.0000e+00,  1.1925e-08,  1.0000e+00,\n",
       "           1.3907e-07],\n",
       "         [-1.0000e+00, -2.9007e-07,  1.0000e+00, -3.5775e-08, -1.0000e+00,\n",
       "          -5.9206e-07],\n",
       "         [ 1.0000e+00, -6.8746e-07, -1.0000e+00,  5.9624e-08,  1.0000e+00,\n",
       "           5.6821e-07],\n",
       "         [-1.0000e+00,  7.1131e-07,  1.0000e+00,  1.8239e-06, -1.0000e+00,\n",
       "          -5.4436e-07],\n",
       "         [ 1.0000e+00, -7.3516e-07, -1.0000e+00, -1.8000e-06,  1.0000e+00,\n",
       "           5.2051e-07]]),\n",
       " tensor([[ 0.0000e+00, -2.2877e+07,  8.7423e-08, -8.3858e+07,  1.7485e-07,\n",
       "           7.1906e+06],\n",
       "         [ 2.3850e-08,  3.4475e+06,  3.4969e-07, -2.7953e+07,  6.7553e-07,\n",
       "           1.6890e+06],\n",
       "         [ 4.7700e-08, -1.4546e+06, -5.8013e-07, -1.6772e+07,  6.9938e-07,\n",
       "           1.7599e+06],\n",
       "         [ 7.1549e-08, -1.4059e+06, -5.5628e-07,  5.4828e+05, -1.1841e-06,\n",
       "           1.8370e+06],\n",
       "         [ 9.5399e-08, -1.3603e+06,  1.3749e-06,  5.5555e+05, -1.1603e-06,\n",
       "           1.9212e+06]]),\n",
       " tensor([[0.0000, 0.9172, 0.9963, 0.9998, 1.0000, 1.0000],\n",
       "         [1.0000, 1.0000, 1.0000, 1.0000, 1.0000, 1.0000],\n",
       "         [1.0000, 1.0000, 1.0000, 1.0000, 1.0000, 1.0000],\n",
       "         [1.0000, 1.0000, 1.0000, 1.0000, 1.0000, 1.0000],\n",
       "         [1.0000, 1.0000, 1.0000, 1.0000, 1.0000, 1.0000]]))"
      ]
     },
     "execution_count": 30,
     "metadata": {},
     "output_type": "execute_result"
    }
   ],
   "source": [
    "t15 = torch.arange(0, torch.pi*15, torch.pi/2).reshape(5, 6)\n",
    "t15, torch.sin(t15), torch.cos(t15), torch.tan(t15), torch.tanh(t15)"
   ]
  },
  {
   "cell_type": "code",
   "execution_count": 31,
   "id": "5aa785be",
   "metadata": {},
   "outputs": [
    {
     "data": {
      "text/plain": [
       "(tensor([[[1.4280, 1.7283, 0.7939, 0.0654],\n",
       "          [1.4113, 0.9736, 0.0926, 0.7464],\n",
       "          [0.2469, 0.6317, 0.3020, 2.9542]]]),\n",
       " torch.return_types.sort(\n",
       " values=tensor([[[0.0654, 0.7939, 1.4280, 1.7283],\n",
       "          [0.0926, 0.7464, 0.9736, 1.4113],\n",
       "          [0.2469, 0.3020, 0.6317, 2.9542]]]),\n",
       " indices=tensor([[[3, 2, 0, 1],\n",
       "          [2, 3, 1, 0],\n",
       "          [0, 2, 1, 3]]])),\n",
       " torch.return_types.sort(\n",
       " values=tensor([[[0.0654, 0.7939, 1.4280, 1.7283],\n",
       "          [0.0926, 0.7464, 0.9736, 1.4113],\n",
       "          [0.2469, 0.3020, 0.6317, 2.9542]]]),\n",
       " indices=tensor([[[3, 2, 0, 1],\n",
       "          [2, 3, 1, 0],\n",
       "          [0, 2, 1, 3]]])))"
      ]
     },
     "execution_count": 31,
     "metadata": {},
     "output_type": "execute_result"
    }
   ],
   "source": [
    "# sắp xếp\n",
    "t13, t13.sort(), torch.sort(t13)"
   ]
  },
  {
   "cell_type": "code",
   "execution_count": 32,
   "id": "3dc5ab86",
   "metadata": {},
   "outputs": [
    {
     "data": {
      "text/plain": [
       "(tensor([[[1.4280, 1.7283, 0.7939, 0.0654],\n",
       "          [1.4113, 0.9736, 0.0926, 0.7464],\n",
       "          [0.2469, 0.6317, 0.3020, 2.9542]]]),\n",
       " torch.return_types.sort(\n",
       " values=tensor([[[1.7283, 1.4280, 0.7939, 0.0654],\n",
       "          [1.4113, 0.9736, 0.7464, 0.0926],\n",
       "          [2.9542, 0.6317, 0.3020, 0.2469]]]),\n",
       " indices=tensor([[[1, 0, 2, 3],\n",
       "          [0, 1, 3, 2],\n",
       "          [3, 1, 2, 0]]])))"
      ]
     },
     "execution_count": 32,
     "metadata": {},
     "output_type": "execute_result"
    }
   ],
   "source": [
    "t13, t13.sort(descending=True)"
   ]
  },
  {
   "cell_type": "markdown",
   "id": "96a33e84",
   "metadata": {},
   "source": [
    "## 3. Phép tính rút gọn (Reduction Ops)\n",
    "Loại phép tính này bao gồm nhiều hàm thống kê trong lĩnh vực khoa học dữ liệu, như hàm trung bình, hàm cực đại, hàm phương sai, hàm trung vị,..."
   ]
  },
  {
   "cell_type": "code",
   "execution_count": 35,
   "id": "218750b6",
   "metadata": {},
   "outputs": [
    {
     "data": {
      "text/plain": [
       "(tensor([[ 0.0000,  1.5708,  3.1416,  4.7124,  6.2832,  7.8540],\n",
       "         [ 9.4248, 10.9956, 12.5664, 14.1372, 15.7080, 17.2788],\n",
       "         [18.8496, 20.4204, 21.9911, 23.5619, 25.1327, 26.7035],\n",
       "         [28.2743, 29.8451, 31.4159, 32.9867, 34.5575, 36.1283],\n",
       "         [37.6991, 39.2699, 40.8407, 42.4115, 43.9823, 45.5531]]),\n",
       " tensor(22.7765),\n",
       " tensor(191.2236),\n",
       " tensor(13.8284),\n",
       " (tensor(191.2236), tensor(22.7765)),\n",
       " (tensor(13.8284), tensor(22.7765)))"
      ]
     },
     "execution_count": 35,
     "metadata": {},
     "output_type": "execute_result"
    }
   ],
   "source": [
    "t15, torch.mean(t15), torch.var(t15), torch.std(t15), torch.var_mean(t15), torch.std_mean(t15)"
   ]
  },
  {
   "cell_type": "code",
   "execution_count": 38,
   "id": "4f40b20b",
   "metadata": {},
   "outputs": [
    {
     "data": {
      "text/plain": [
       "(tensor(45.5531), tensor(29), tensor(0.), tensor(0), tensor(21.9911))"
      ]
     },
     "execution_count": 38,
     "metadata": {},
     "output_type": "execute_result"
    }
   ],
   "source": [
    "\n",
    "torch.max(t15), torch.argmax(t15), torch.min(t15), torch.argmin(t15), torch.median(t15)"
   ]
  },
  {
   "cell_type": "code",
   "execution_count": 52,
   "id": "aa1c3c2d",
   "metadata": {},
   "outputs": [
    {
     "data": {
      "text/plain": [
       "(tensor([[[1.4280, 1.7283, 0.7939, 0.0654],\n",
       "          [1.4113, 0.9736, 0.0926, 0.7464],\n",
       "          [0.2469, 0.6317, 0.3020, 2.9542]]]),\n",
       " tensor(11.3744),\n",
       " tensor(0.0017),\n",
       " tensor([[2.5712, 2.2981, 3.1654]]),\n",
       " torch.return_types.topk(\n",
       " values=tensor([[[1.7283],\n",
       "          [1.4113],\n",
       "          [2.9542]]]),\n",
       " indices=tensor([[[1],\n",
       "          [0],\n",
       "          [3]]])))"
      ]
     },
     "execution_count": 52,
     "metadata": {},
     "output_type": "execute_result"
    }
   ],
   "source": [
    "t13, torch.sum(t13), torch.prod(t13), torch.logsumexp(t13, -1), torch.topk(t13, 1, 2) # ()?"
   ]
  },
  {
   "cell_type": "markdown",
   "id": "a6ccbdd7",
   "metadata": {},
   "source": [
    "hàm `dist()` được sử dụng để tính khoảng cách giữa hai tensor. Hàm này thường được sử dụng trong các tác vụ như tính khoảng cách Euclidean giữa các điểm dữ liệu, tính khoảng cách cosine, hoặc tính khoảng cách Mahalanobis."
   ]
  },
  {
   "cell_type": "code",
   "execution_count": 55,
   "id": "8a2a8f23",
   "metadata": {},
   "outputs": [
    {
     "data": {
      "text/plain": [
       "(tensor(0.9146), tensor(0.9146))"
      ]
     },
     "execution_count": 55,
     "metadata": {},
     "output_type": "execute_result"
    }
   ],
   "source": [
    "torch.dist(t12, t14, p=2), torch.sqrt(torch.square(t14-t12).sum()) # khoảng cách Euclidean"
   ]
  },
  {
   "cell_type": "code",
   "execution_count": 57,
   "id": "611ac78a",
   "metadata": {},
   "outputs": [
    {
     "data": {
      "text/plain": [
       "(tensor(2.7181), tensor(2.7181))"
      ]
     },
     "execution_count": 57,
     "metadata": {},
     "output_type": "execute_result"
    }
   ],
   "source": [
    "\n",
    "# khoảng cách Manhattan \n",
    "\n",
    "torch.dist(t12, t14, p=1), torch.sum((t12-t14).abs())"
   ]
  },
  {
   "cell_type": "code",
   "execution_count": 60,
   "id": "0fb9c70c",
   "metadata": {},
   "outputs": [
    {
     "data": {
      "text/plain": [
       "(tensor([[1.4280, 1.7283, 0.7939, 0.0654],\n",
       "         [1.4113, 0.9736, 0.0926, 0.7464],\n",
       "         [0.2469, 0.6317, 0.3020, 2.9542]]),\n",
       " tensor([3.0863, 3.3337, 1.1885, 3.7659]),\n",
       " tensor([4.0157, 3.2239, 4.1348]))"
      ]
     },
     "execution_count": 60,
     "metadata": {},
     "output_type": "execute_result"
    }
   ],
   "source": [
    "# chỉ định chiều tính toán\n",
    "\n",
    "t12, torch.sum(t12, 0), torch.sum(t12, 1) # theo hàng, theo cột"
   ]
  },
  {
   "cell_type": "code",
   "execution_count": 67,
   "id": "733ba326",
   "metadata": {},
   "outputs": [
    {
     "data": {
      "text/plain": [
       "(tensor([[[1.4280, 1.7283, 0.7939, 0.0654],\n",
       "          [1.4113, 0.9736, 0.0926, 0.7464],\n",
       "          [0.2469, 0.6317, 0.3020, 2.9542]]]),\n",
       " tensor(0.9479),\n",
       " tensor([[1.4280, 1.7283, 0.7939, 0.0654],\n",
       "         [1.4113, 0.9736, 0.0926, 0.7464],\n",
       "         [0.2469, 0.6317, 0.3020, 2.9542]]),\n",
       " tensor([[1.4280, 1.7283, 0.7939, 0.0654],\n",
       "         [1.4113, 0.9736, 0.0926, 0.7464],\n",
       "         [0.2469, 0.6317, 0.3020, 2.9542]]))"
      ]
     },
     "execution_count": 67,
     "metadata": {},
     "output_type": "execute_result"
    }
   ],
   "source": [
    "\n",
    "t13, torch.mean(t13), torch.mean(t13, dim=0), t13.mean(0)"
   ]
  },
  {
   "cell_type": "code",
   "execution_count": 81,
   "id": "67d3e24c",
   "metadata": {},
   "outputs": [
    {
     "data": {
      "text/plain": [
       "(tensor([[[ 9, 19,  7,  5, 21],\n",
       "          [ 7, 17,  5,  8,  0],\n",
       "          [15,  4,  1,  5, 19],\n",
       "          [ 2,  3,  7,  6, 19]],\n",
       " \n",
       "         [[10, 10, 20,  3, 20],\n",
       "          [ 9,  7, 19,  2, 11],\n",
       "          [12,  8,  7,  8,  0],\n",
       "          [10, 13,  8, 17, 13]],\n",
       " \n",
       "         [[ 2, 12,  8,  6,  9],\n",
       "          [15,  4,  8,  9, 11],\n",
       "          [ 4, 11, 16,  9, 15],\n",
       "          [ 3, 21, 10,  1, 21]]]),\n",
       " torch.return_types.sort(\n",
       " values=tensor([[[ 5,  7,  9, 19, 21],\n",
       "          [ 0,  5,  7,  8, 17],\n",
       "          [ 1,  4,  5, 15, 19],\n",
       "          [ 2,  3,  6,  7, 19]],\n",
       " \n",
       "         [[ 3, 10, 10, 20, 20],\n",
       "          [ 2,  7,  9, 11, 19],\n",
       "          [ 0,  7,  8,  8, 12],\n",
       "          [ 8, 10, 13, 13, 17]],\n",
       " \n",
       "         [[ 2,  6,  8,  9, 12],\n",
       "          [ 4,  8,  9, 11, 15],\n",
       "          [ 4,  9, 11, 15, 16],\n",
       "          [ 1,  3, 10, 21, 21]]]),\n",
       " indices=tensor([[[3, 2, 0, 1, 4],\n",
       "          [4, 2, 0, 3, 1],\n",
       "          [2, 1, 3, 0, 4],\n",
       "          [0, 1, 3, 2, 4]],\n",
       " \n",
       "         [[3, 0, 1, 2, 4],\n",
       "          [3, 1, 0, 4, 2],\n",
       "          [4, 2, 1, 3, 0],\n",
       "          [2, 0, 1, 4, 3]],\n",
       " \n",
       "         [[0, 3, 2, 4, 1],\n",
       "          [1, 2, 3, 4, 0],\n",
       "          [0, 3, 1, 4, 2],\n",
       "          [3, 0, 2, 1, 4]]])),\n",
       " torch.return_types.sort(\n",
       " values=tensor([[[ 2,  3,  1,  5,  0],\n",
       "          [ 7,  4,  5,  5, 19],\n",
       "          [ 9, 17,  7,  6, 19],\n",
       "          [15, 19,  7,  8, 21]],\n",
       " \n",
       "         [[ 9,  7,  7,  2,  0],\n",
       "          [10,  8,  8,  3, 11],\n",
       "          [10, 10, 19,  8, 13],\n",
       "          [12, 13, 20, 17, 20]],\n",
       " \n",
       "         [[ 2,  4,  8,  1,  9],\n",
       "          [ 3, 11,  8,  6, 11],\n",
       "          [ 4, 12, 10,  9, 15],\n",
       "          [15, 21, 16,  9, 21]]]),\n",
       " indices=tensor([[[3, 3, 2, 0, 1],\n",
       "          [1, 2, 1, 2, 2],\n",
       "          [0, 1, 0, 3, 3],\n",
       "          [2, 0, 3, 1, 0]],\n",
       " \n",
       "         [[1, 1, 2, 1, 2],\n",
       "          [0, 2, 3, 0, 1],\n",
       "          [3, 0, 1, 2, 3],\n",
       "          [2, 3, 0, 3, 0]],\n",
       " \n",
       "         [[0, 1, 0, 3, 0],\n",
       "          [3, 2, 1, 0, 1],\n",
       "          [2, 0, 3, 1, 2],\n",
       "          [1, 3, 2, 2, 3]]])),\n",
       " torch.return_types.sort(\n",
       " values=tensor([[[ 2, 10,  7,  3,  9],\n",
       "          [ 7,  4,  5,  2,  0],\n",
       "          [ 4,  4,  1,  5,  0],\n",
       "          [ 2,  3,  7,  1, 13]],\n",
       " \n",
       "         [[ 9, 12,  8,  5, 20],\n",
       "          [ 9,  7,  8,  8, 11],\n",
       "          [12,  8,  7,  8, 15],\n",
       "          [ 3, 13,  8,  6, 19]],\n",
       " \n",
       "         [[10, 19, 20,  6, 21],\n",
       "          [15, 17, 19,  9, 11],\n",
       "          [15, 11, 16,  9, 19],\n",
       "          [10, 21, 10, 17, 21]]]),\n",
       " indices=tensor([[[2, 1, 0, 1, 2],\n",
       "          [0, 2, 0, 1, 0],\n",
       "          [2, 0, 0, 0, 1],\n",
       "          [0, 0, 0, 2, 1]],\n",
       " \n",
       "         [[0, 2, 2, 0, 1],\n",
       "          [1, 1, 2, 0, 1],\n",
       "          [1, 1, 1, 1, 2],\n",
       "          [2, 1, 1, 0, 0]],\n",
       " \n",
       "         [[1, 0, 1, 2, 0],\n",
       "          [2, 0, 1, 2, 2],\n",
       "          [0, 2, 2, 2, 0],\n",
       "          [1, 2, 2, 1, 2]]])),\n",
       " torch.return_types.sort(\n",
       " values=tensor([[[21, 19,  9,  7,  5],\n",
       "          [17,  8,  7,  5,  0],\n",
       "          [19, 15,  5,  4,  1],\n",
       "          [19,  7,  6,  3,  2]],\n",
       " \n",
       "         [[20, 20, 10, 10,  3],\n",
       "          [19, 11,  9,  7,  2],\n",
       "          [12,  8,  8,  7,  0],\n",
       "          [17, 13, 13, 10,  8]],\n",
       " \n",
       "         [[12,  9,  8,  6,  2],\n",
       "          [15, 11,  9,  8,  4],\n",
       "          [16, 15, 11,  9,  4],\n",
       "          [21, 21, 10,  3,  1]]]),\n",
       " indices=tensor([[[4, 1, 0, 2, 3],\n",
       "          [1, 3, 0, 2, 4],\n",
       "          [4, 0, 3, 1, 2],\n",
       "          [4, 2, 3, 1, 0]],\n",
       " \n",
       "         [[2, 4, 0, 1, 3],\n",
       "          [2, 4, 0, 1, 3],\n",
       "          [0, 1, 3, 2, 4],\n",
       "          [3, 1, 4, 0, 2]],\n",
       " \n",
       "         [[1, 4, 2, 3, 0],\n",
       "          [0, 4, 3, 2, 1],\n",
       "          [2, 4, 1, 3, 0],\n",
       "          [1, 4, 2, 0, 3]]])))"
      ]
     },
     "execution_count": 81,
     "metadata": {},
     "output_type": "execute_result"
    }
   ],
   "source": [
    "t6, torch.sort(t6), torch.sort(t6, dim=1), t6.sort(0), t6.sort(dim=2, descending=True)"
   ]
  },
  {
   "cell_type": "markdown",
   "id": "c5f996c5",
   "metadata": {},
   "source": [
    "## 4. Phép so sánh (Comparison Ops)"
   ]
  },
  {
   "cell_type": "code",
   "execution_count": 86,
   "id": "f89d4699",
   "metadata": {},
   "outputs": [
    {
     "data": {
      "text/plain": [
       "(tensor([[0.0511, 0.6093, 0.4979, 0.5834],\n",
       "         [0.1623, 0.4379, 0.0035, 0.6991],\n",
       "         [0.0733, 0.0212, 0.7996, 0.9534]]),\n",
       " tensor([[ 0.9190,  0.3510,  1.2850,  0.1170],\n",
       "         [-0.6527, -0.6337, -0.1897, -0.5935],\n",
       "         [-0.9939, -2.0683, -0.0927,  0.6814]]),\n",
       " tensor([[False,  True, False,  True],\n",
       "         [ True,  True,  True,  True],\n",
       "         [ True,  True,  True,  True]]),\n",
       " tensor([[False,  True, False,  True],\n",
       "         [ True,  True,  True,  True],\n",
       "         [ True,  True,  True,  True]]))"
      ]
     },
     "execution_count": 86,
     "metadata": {},
     "output_type": "execute_result"
    }
   ],
   "source": [
    "# so sánh các phần tử 2 tensor cùng kích thước\n",
    "\n",
    "c = torch.rand(3, 4)\n",
    "d = torch.randn(3, 4)\n",
    "\n",
    "c, d, torch.gt(c, d), c>d"
   ]
  },
  {
   "cell_type": "code",
   "execution_count": 87,
   "id": "1375871f",
   "metadata": {},
   "outputs": [
    {
     "data": {
      "text/plain": [
       "(tensor([[False, False, False, False],\n",
       "         [False, False, False, False],\n",
       "         [False, False, False, False]]),\n",
       " tensor([[False, False, False, False],\n",
       "         [False, False, False, False],\n",
       "         [False, False, False, False]]))"
      ]
     },
     "execution_count": 87,
     "metadata": {},
     "output_type": "execute_result"
    }
   ],
   "source": [
    "torch.eq(c, d), c==d"
   ]
  },
  {
   "cell_type": "code",
   "execution_count": 88,
   "id": "f152c5dd",
   "metadata": {},
   "outputs": [
    {
     "data": {
      "text/plain": [
       "(tensor([[ True, False,  True, False],\n",
       "         [False, False, False, False],\n",
       "         [False, False, False, False]]),\n",
       " tensor([[ True, False,  True, False],\n",
       "         [False, False, False, False],\n",
       "         [False, False, False, False]]))"
      ]
     },
     "execution_count": 88,
     "metadata": {},
     "output_type": "execute_result"
    }
   ],
   "source": [
    "torch.lt(c, d), c<d"
   ]
  },
  {
   "cell_type": "code",
   "execution_count": 89,
   "id": "3e91bf22",
   "metadata": {},
   "outputs": [
    {
     "data": {
      "text/plain": [
       "(tensor([[False,  True, False,  True],\n",
       "         [ True,  True,  True,  True],\n",
       "         [ True,  True,  True,  True]]),\n",
       " tensor([[False,  True, False,  True],\n",
       "         [ True,  True,  True,  True],\n",
       "         [ True,  True,  True,  True]]))"
      ]
     },
     "execution_count": 89,
     "metadata": {},
     "output_type": "execute_result"
    }
   ],
   "source": [
    "torch.ge(c, d), c>=d"
   ]
  },
  {
   "cell_type": "code",
   "execution_count": 90,
   "id": "029eed08",
   "metadata": {},
   "outputs": [
    {
     "data": {
      "text/plain": [
       "(tensor([[ True, False,  True, False],\n",
       "         [False, False, False, False],\n",
       "         [False, False, False, False]]),\n",
       " tensor([[ True, False,  True, False],\n",
       "         [False, False, False, False],\n",
       "         [False, False, False, False]]))"
      ]
     },
     "execution_count": 90,
     "metadata": {},
     "output_type": "execute_result"
    }
   ],
   "source": [
    "torch.le(c, d), c<=d"
   ]
  },
  {
   "cell_type": "code",
   "execution_count": 91,
   "id": "c5a5bdc9",
   "metadata": {},
   "outputs": [
    {
     "data": {
      "text/plain": [
       "(tensor([[True, True, True, True],\n",
       "         [True, True, True, True],\n",
       "         [True, True, True, True]]),\n",
       " tensor([[True, True, True, True],\n",
       "         [True, True, True, True],\n",
       "         [True, True, True, True]]))"
      ]
     },
     "execution_count": 91,
     "metadata": {},
     "output_type": "execute_result"
    }
   ],
   "source": [
    "torch.ne(c, d), c!=d"
   ]
  },
  {
   "cell_type": "code",
   "execution_count": null,
   "id": "411344a2",
   "metadata": {},
   "outputs": [],
   "source": []
  },
  {
   "cell_type": "code",
   "execution_count": null,
   "id": "026faef3",
   "metadata": {},
   "outputs": [],
   "source": []
  }
 ],
 "metadata": {
  "kernelspec": {
   "display_name": "Python 3 (ipykernel)",
   "language": "python",
   "name": "python3"
  },
  "language_info": {
   "codemirror_mode": {
    "name": "ipython",
    "version": 3
   },
   "file_extension": ".py",
   "mimetype": "text/x-python",
   "name": "python",
   "nbconvert_exporter": "python",
   "pygments_lexer": "ipython3",
   "version": "3.9.12"
  }
 },
 "nbformat": 4,
 "nbformat_minor": 5
}
