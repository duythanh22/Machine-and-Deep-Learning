{
 "cells": [
  {
   "cell_type": "markdown",
   "id": "d21e678f",
   "metadata": {},
   "source": [
    "## Tổng quan về BLAS và LAPACK\n",
    "BLAS (Basic Linear Algebra Subprograms) và LAPACK (Linear Algebra Package) là hai thư viện được tích hợp sẵn trong PyTorch để thực hiện các phép toán đại số tuyến tính trên tensor và ma trận.\n",
    "\n",
    "BLAS cung cấp các phép toán đại số cơ bản như nhân ma trận, nhân vector, tích vô hướng, cộng/trừ hai ma trận và nhiều phép toán khác. Nó cung cấp các hàm được tối ưu hóa để thực hiện các phép toán nhanh chóng và hiệu quả trên các tensor.\n",
    "\n",
    "LAPACK là một thư viện đại số tuyến tính chuyên sâu, cung cấp các phép toán phân tích và giải các vấn đề liên quan đến ma trận. Nó bao gồm các phép toán như phân rã ma trận, tìm giá trị riêng và vector riêng, giải hệ phương trình tuyến tính, tính định thức và nhiều phép toán khác.\n"
   ]
  },
  {
   "cell_type": "markdown",
   "id": "58f338be",
   "metadata": {},
   "source": [
    "## 1. Phép biến đổi và phương pháp xây dựng các ma trận đặc biệt\n",
    "\n",
    "Các phép biến đổi ma trận thực chất cũng là các phép biến đổi của tensor hai chiều. Trong quá trình thực hiện các phép toán đại số tuyến tính thực tế, chúng ta thường gặp phải một số ma trận đặc biệt như ma trận đơn vị, ma trận đường chéo, và các loại ma trận khác."
   ]
  },
  {
   "cell_type": "code",
   "execution_count": 23,
   "id": "d444ab59",
   "metadata": {},
   "outputs": [],
   "source": [
    "import torch\n",
    "import matplotlib.pyplot as plt\n",
    "import warnings\n",
    "warnings.filterwarnings('ignore', category=UserWarning)"
   ]
  },
  {
   "cell_type": "code",
   "execution_count": 24,
   "id": "8aba091f",
   "metadata": {},
   "outputs": [
    {
     "data": {
      "text/plain": [
       "(tensor([[15,  7, 32, 78],\n",
       "         [ 2, 15, 89, 24],\n",
       "         [68, 56, 23, 52]]),\n",
       " tensor([[15,  2, 68],\n",
       "         [ 7, 15, 56],\n",
       "         [32, 89, 23],\n",
       "         [78, 24, 52]]),\n",
       " tensor([[15,  2, 68],\n",
       "         [ 7, 15, 56],\n",
       "         [32, 89, 23],\n",
       "         [78, 24, 52]]))"
      ]
     },
     "execution_count": 24,
     "metadata": {},
     "output_type": "execute_result"
    }
   ],
   "source": [
    "t1 = torch.randint(1, 100, size=(3, 4))\n",
    "\n",
    "# chuyển vị\n",
    "t1, torch.t(t1), t1.t()"
   ]
  },
  {
   "cell_type": "code",
   "execution_count": 25,
   "id": "9b7c9a79",
   "metadata": {},
   "outputs": [
    {
     "data": {
      "text/plain": [
       "tensor([[1., 0., 0., 0., 0., 0., 0.],\n",
       "        [0., 1., 0., 0., 0., 0., 0.],\n",
       "        [0., 0., 1., 0., 0., 0., 0.],\n",
       "        [0., 0., 0., 1., 0., 0., 0.],\n",
       "        [0., 0., 0., 0., 1., 0., 0.],\n",
       "        [0., 0., 0., 0., 0., 1., 0.],\n",
       "        [0., 0., 0., 0., 0., 0., 1.]])"
      ]
     },
     "execution_count": 25,
     "metadata": {},
     "output_type": "execute_result"
    }
   ],
   "source": [
    "# ma trận đơn vị\n",
    "torch.eye(7)"
   ]
  },
  {
   "cell_type": "code",
   "execution_count": 26,
   "id": "c89a6b34",
   "metadata": {},
   "outputs": [
    {
     "data": {
      "text/plain": [
       "(tensor([ 6,  8, 14, 14, 12]),\n",
       " tensor([[ 6,  0,  0,  0,  0],\n",
       "         [ 0,  8,  0,  0,  0],\n",
       "         [ 0,  0, 14,  0,  0],\n",
       "         [ 0,  0,  0, 14,  0],\n",
       "         [ 0,  0,  0,  0, 12]]),\n",
       " tensor([[ 0,  0,  6,  0,  0,  0,  0],\n",
       "         [ 0,  0,  0,  8,  0,  0,  0],\n",
       "         [ 0,  0,  0,  0, 14,  0,  0],\n",
       "         [ 0,  0,  0,  0,  0, 14,  0],\n",
       "         [ 0,  0,  0,  0,  0,  0, 12],\n",
       "         [ 0,  0,  0,  0,  0,  0,  0],\n",
       "         [ 0,  0,  0,  0,  0,  0,  0]]),\n",
       " tensor([[ 0,  0,  0,  0,  0,  0,  0],\n",
       "         [ 0,  0,  0,  0,  0,  0,  0],\n",
       "         [ 6,  0,  0,  0,  0,  0,  0],\n",
       "         [ 0,  8,  0,  0,  0,  0,  0],\n",
       "         [ 0,  0, 14,  0,  0,  0,  0],\n",
       "         [ 0,  0,  0, 14,  0,  0,  0],\n",
       "         [ 0,  0,  0,  0, 12,  0,  0]]))"
      ]
     },
     "execution_count": 26,
     "metadata": {},
     "output_type": "execute_result"
    }
   ],
   "source": [
    "# ma trận đường chéo, chéo trên, chéo dưới\n",
    "\n",
    "t2 = torch.randint(1, 20, size=(5, ))\n",
    "t2, torch.diag(t2), torch.diag(t2, diagonal=2), torch.diag(t2, -2)"
   ]
  },
  {
   "cell_type": "code",
   "execution_count": 27,
   "id": "8b9c4cd9",
   "metadata": {},
   "outputs": [
    {
     "data": {
      "text/plain": [
       "(tensor([[21, 22, 21,  9],\n",
       "         [ 7,  7, 12, 14],\n",
       "         [19,  5, 12, 14],\n",
       "         [13, 24, 11, 18]]),\n",
       " tensor([[21, 22, 21,  9],\n",
       "         [ 0,  7, 12, 14],\n",
       "         [ 0,  0, 12, 14],\n",
       "         [ 0,  0,  0, 18]]),\n",
       " tensor([[21, 22, 21,  9],\n",
       "         [ 7,  7, 12, 14],\n",
       "         [ 0,  5, 12, 14],\n",
       "         [ 0,  0, 11, 18]]),\n",
       " tensor([[ 0, 22, 21,  9],\n",
       "         [ 0,  0, 12, 14],\n",
       "         [ 0,  0,  0, 14],\n",
       "         [ 0,  0,  0,  0]]))"
      ]
     },
     "execution_count": 27,
     "metadata": {},
     "output_type": "execute_result"
    }
   ],
   "source": [
    "# ma trận tam giác trên\n",
    "\n",
    "t3 = torch.randint(1, 30, size=(4, 4))\n",
    "t3, torch.triu(t3), t3.triu(-1), t3.triu(1)"
   ]
  },
  {
   "cell_type": "code",
   "execution_count": 28,
   "id": "a25b1f3f",
   "metadata": {},
   "outputs": [
    {
     "data": {
      "text/plain": [
       "(tensor([[21, 22, 21,  9],\n",
       "         [ 7,  7, 12, 14],\n",
       "         [19,  5, 12, 14],\n",
       "         [13, 24, 11, 18]]),\n",
       " tensor([[21,  0,  0,  0],\n",
       "         [ 7,  7,  0,  0],\n",
       "         [19,  5, 12,  0],\n",
       "         [13, 24, 11, 18]]),\n",
       " tensor([[ 0,  0,  0,  0],\n",
       "         [ 7,  0,  0,  0],\n",
       "         [19,  5,  0,  0],\n",
       "         [13, 24, 11,  0]]),\n",
       " tensor([[21, 22,  0,  0],\n",
       "         [ 7,  7, 12,  0],\n",
       "         [19,  5, 12, 14],\n",
       "         [13, 24, 11, 18]]))"
      ]
     },
     "execution_count": 28,
     "metadata": {},
     "output_type": "execute_result"
    }
   ],
   "source": [
    "# ma trận tam giác dưới\n",
    "\n",
    "t3, torch.tril(t3), t3.tril(-1), t3.tril(1)"
   ]
  },
  {
   "cell_type": "markdown",
   "id": "b6db4117",
   "metadata": {},
   "source": [
    "## 2. Các phép toán cơ bản trên ma trận\n",
    "\n",
    "Ma trận khác với mảng hai chiều thông thường, nó có ý nghĩa đại số tuyến tính riêng biệt và những đặc tính đặc biệt này thể hiện chủ yếu trong các phép toán cơ bản trên ma trận."
   ]
  },
  {
   "cell_type": "code",
   "execution_count": 29,
   "id": "e5455779",
   "metadata": {},
   "outputs": [
    {
     "data": {
      "text/plain": [
       "(tensor([ 6,  8, 14, 14, 12]), tensor(636), tensor(636))"
      ]
     },
     "execution_count": 29,
     "metadata": {},
     "output_type": "execute_result"
    }
   ],
   "source": [
    "# dot, vdot: áp dụng với các tensor 1 chiều\n",
    "\n",
    "t2, torch.dot(t2, t2), torch.vdot(t2, t2)"
   ]
  },
  {
   "cell_type": "code",
   "execution_count": 30,
   "id": "d25fc172",
   "metadata": {},
   "outputs": [],
   "source": [
    "# nhân ma trận\n"
   ]
  },
  {
   "cell_type": "code",
   "execution_count": 31,
   "id": "e3d775b0",
   "metadata": {},
   "outputs": [
    {
     "data": {
      "text/plain": [
       "(torch.Size([3, 4]),\n",
       " torch.Size([4, 4]),\n",
       " tensor([[1986, 2411, 1641, 2085],\n",
       "         [2150, 1170, 1554, 1906],\n",
       "         [2933, 3251, 2948, 2654]]))"
      ]
     },
     "execution_count": 31,
     "metadata": {},
     "output_type": "execute_result"
    }
   ],
   "source": [
    "t1.shape, t3.shape, torch.mm(t1, t3)"
   ]
  },
  {
   "cell_type": "code",
   "execution_count": 32,
   "id": "ca420a17",
   "metadata": {},
   "outputs": [
    {
     "data": {
      "text/plain": [
       "tensor([[ 225,   49, 1024, 6084],\n",
       "        [   4,  225, 7921,  576],\n",
       "        [4624, 3136,  529, 2704]])"
      ]
     },
     "execution_count": 32,
     "metadata": {},
     "output_type": "execute_result"
    }
   ],
   "source": [
    "# nhân ma trận cùng kích thước\n",
    "\n",
    "t1 * t1"
   ]
  },
  {
   "cell_type": "code",
   "execution_count": 33,
   "id": "e411781b",
   "metadata": {},
   "outputs": [
    {
     "data": {
      "text/plain": [
       "(tensor([1766, 2163, 2602]),\n",
       " tensor([[1766],\n",
       "         [2163],\n",
       "         [2602]]),\n",
       " tensor([1766, 2163, 2602]))"
      ]
     },
     "execution_count": 33,
     "metadata": {},
     "output_type": "execute_result"
    }
   ],
   "source": [
    "# mv: nhân ma trận với vector\n",
    "\n",
    "t4 = torch.randint(3, 22, size=(4,))\n",
    "\n",
    "torch.mv(t1, t4), torch.mm(t1, t4.reshape(-1, 1)), torch.mm(t1, t4.reshape(-1, 1)).flatten()"
   ]
  },
  {
   "cell_type": "code",
   "execution_count": 34,
   "id": "ca7ea9a1",
   "metadata": {},
   "outputs": [
    {
     "data": {
      "text/plain": [
       "(tensor([[[12, 10],\n",
       "          [ 7,  4]],\n",
       " \n",
       "         [[ 6, 19],\n",
       "          [15, 18]],\n",
       " \n",
       "         [[21,  4],\n",
       "          [ 9, 21]]]),\n",
       " tensor([[[ 8,  4, 16],\n",
       "          [13, 12,  8]],\n",
       " \n",
       "         [[16, 19, 18],\n",
       "          [14, 21, 20]],\n",
       " \n",
       "         [[ 9, 18, 19],\n",
       "          [16,  7,  4]]]),\n",
       " tensor([[[226, 168, 272],\n",
       "          [108,  76, 144]],\n",
       " \n",
       "         [[362, 513, 488],\n",
       "          [492, 663, 630]],\n",
       " \n",
       "         [[253, 406, 415],\n",
       "          [417, 309, 255]]]))"
      ]
     },
     "execution_count": 34,
     "metadata": {},
     "output_type": "execute_result"
    }
   ],
   "source": [
    "# bmm: nhân ma trận theo lô (batch): Nhân ma trận theo lô: Nhân ma trận trong tensor ba chiều \n",
    "# là việc nhân từng cặp ma trận tại vị trí tương ứng trong tensor ba chiều. \n",
    "# Điều này yêu cầu kích thước chiều đầu tiên của hai ma trận phải giống nhau \n",
    "# và hai chiều còn lại phải thỏa mãn điều kiện của phép nhân ma trận.\n",
    "\n",
    "t5 = torch.randint(3, 22, (3, 2, 2))\n",
    "t6 = torch.randint(3, 22, (3, 2, 3))\n",
    "\n",
    "t5, t6, torch.bmm(t5, t6)"
   ]
  },
  {
   "cell_type": "code",
   "execution_count": 35,
   "id": "c97a801e",
   "metadata": {},
   "outputs": [
    {
     "data": {
      "text/plain": [
       "(tensor([[1995, 2428, 1659, 2097],\n",
       "         [2159, 1187, 1572, 1918],\n",
       "         [2942, 3268, 2966, 2666]]),\n",
       " tensor([[1995, 2428, 1659, 2097],\n",
       "         [2159, 1187, 1572, 1918],\n",
       "         [2942, 3268, 2966, 2666]]),\n",
       " tensor([[5976, 7267, 4959, 6279],\n",
       "         [6468, 3544, 4698, 5742],\n",
       "         [8817, 9787, 8880, 7986]]))"
      ]
     },
     "execution_count": 35,
     "metadata": {},
     "output_type": "execute_result"
    }
   ],
   "source": [
    "# addmm: cộng và nhân ma trận\n",
    "\n",
    "torch.addmm(t4, t1, t3), t4 + torch.mm(t1, t3), torch.addmm(t4, t1, t3, beta=2, alpha=3)"
   ]
  },
  {
   "cell_type": "code",
   "execution_count": 36,
   "id": "e7b4680a",
   "metadata": {},
   "outputs": [
    {
     "data": {
      "text/plain": [
       "(tensor([[ 859, 1090, 1182],\n",
       "         [1020, 1066, 1046]]),\n",
       " tensor([[ 859, 1090, 1182],\n",
       "         [1020, 1066, 1046]]))"
      ]
     },
     "execution_count": 36,
     "metadata": {},
     "output_type": "execute_result"
    }
   ],
   "source": [
    "# addbmm: cộng nhân ma trận theo lô\n",
    "\n",
    "\n",
    "t7 = torch.randint(3, 22, (2,3 ))\n",
    "torch.addbmm(t7, t5, t6), t7+torch.bmm(t5, t6).sum(0)"
   ]
  },
  {
   "cell_type": "markdown",
   "id": "a1e3d600",
   "metadata": {},
   "source": [
    "## 3. Các phép toán đại số tuyến tính trên ma trận\n",
    "\n"
   ]
  },
  {
   "cell_type": "code",
   "execution_count": 37,
   "id": "3ae36cf8",
   "metadata": {},
   "outputs": [
    {
     "data": {
      "text/plain": [
       "(tensor([[15,  7, 32, 78],\n",
       "         [ 2, 15, 89, 24],\n",
       "         [68, 56, 23, 52]]),\n",
       " tensor([[21, 22, 21,  9],\n",
       "         [ 7,  7, 12, 14],\n",
       "         [19,  5, 12, 14],\n",
       "         [13, 24, 11, 18]]),\n",
       " tensor(53),\n",
       " tensor(53),\n",
       " tensor(58))"
      ]
     },
     "execution_count": 37,
     "metadata": {},
     "output_type": "execute_result"
    }
   ],
   "source": [
    "# trace: tổng các phần tử trên đường chéo chính của ma trận, không nhất thiết cần ma trận vuông\n",
    "\n",
    "t1, t3, torch.trace(t1), t1.trace(), t3.trace()"
   ]
  },
  {
   "cell_type": "code",
   "execution_count": 38,
   "id": "27b76ac9",
   "metadata": {},
   "outputs": [
    {
     "data": {
      "text/plain": [
       "tensor(2)"
      ]
     },
     "execution_count": 38,
     "metadata": {},
     "output_type": "execute_result"
    }
   ],
   "source": [
    "# rank: bậc ma trận\n",
    "\n",
    "t8 = torch.tensor([[1, 2.], [3,4]])\n",
    "\n",
    "torch.linalg.matrix_rank(t8)"
   ]
  },
  {
   "cell_type": "code",
   "execution_count": 39,
   "id": "71eed8d7",
   "metadata": {},
   "outputs": [
    {
     "data": {
      "text/plain": [
       "(tensor(50033.9961), tensor(50033.9961), tensor(-2.))"
      ]
     },
     "execution_count": 39,
     "metadata": {},
     "output_type": "execute_result"
    }
   ],
   "source": [
    "# tính định thức ma trận\n",
    "t3 = t3.float()\n",
    "torch.linalg.det(t3), t3.det(), t8.det()"
   ]
  },
  {
   "cell_type": "code",
   "execution_count": 40,
   "id": "c1bc1ff6",
   "metadata": {},
   "outputs": [
    {
     "data": {
      "image/png": "[encoded data removed]",
      "text/plain": [
       "<Figure size 640x480 with 1 Axes>"
      ]
     },
     "metadata": {},
     "output_type": "display_data"
    }
   ],
   "source": [
    "\n",
    "import torch\n",
    "import matplotlib.pyplot as plt\n",
    "\n",
    "t8 = torch.tensor([[1, 2], [3, 4]])\n",
    "\n",
    "plt.plot(t8[0], t8[1], 'o')\n",
    "plt.show()"
   ]
  },
  {
   "cell_type": "code",
   "execution_count": 43,
   "id": "726699a1",
   "metadata": {},
   "outputs": [
    {
     "data": {
      "text/plain": [
       "(tensor([[21., 22., 21.,  9.],\n",
       "         [ 7.,  7., 12., 14.],\n",
       "         [19.,  5., 12., 14.],\n",
       "         [13., 24., 11., 18.]]),\n",
       " tensor([[ 0.0025, -0.0886,  0.0774,  0.0074],\n",
       "         [ 0.0149, -0.0316, -0.0353,  0.0446],\n",
       "         [ 0.0526,  0.1033, -0.0497, -0.0680],\n",
       "         [-0.0538,  0.0430,  0.0215,  0.0323]]),\n",
       " tensor([[ 0.0025, -0.0886,  0.0774,  0.0074],\n",
       "         [ 0.0149, -0.0316, -0.0353,  0.0446],\n",
       "         [ 0.0526,  0.1033, -0.0497, -0.0680],\n",
       "         [-0.0538,  0.0430,  0.0215,  0.0323]]))"
      ]
     },
     "execution_count": 43,
     "metadata": {},
     "output_type": "execute_result"
    }
   ],
   "source": [
    "# ma trận nghịch đảo\n",
    "\n",
    "t3, torch.inverse(t3), t3.inverse()\n"
   ]
  },
  {
   "cell_type": "code",
   "execution_count": 45,
   "id": "74408b81",
   "metadata": {},
   "outputs": [
    {
     "data": {
      "text/plain": [
       "(tensor([[ 1.0000e+00,  0.0000e+00,  0.0000e+00,  0.0000e+00],\n",
       "         [ 0.0000e+00,  1.0000e+00, -3.7253e-09,  0.0000e+00],\n",
       "         [ 0.0000e+00, -5.9605e-08,  1.0000e+00,  5.9605e-08],\n",
       "         [ 5.9605e-08, -2.9802e-08,  0.0000e+00,  1.0000e+00]]),\n",
       " tensor([[ 1.0000e+00, -2.9802e-08, -1.1921e-07,  0.0000e+00],\n",
       "         [-1.1921e-07,  1.0000e+00, -7.4506e-08, -1.1921e-07],\n",
       "         [-1.4901e-08,  1.7881e-07,  1.0000e+00,  8.9407e-08],\n",
       "         [ 1.1921e-07,  0.0000e+00,  5.9605e-08,  1.0000e+00]]))"
      ]
     },
     "execution_count": 45,
     "metadata": {},
     "output_type": "execute_result"
    }
   ],
   "source": [
    "torch.mm(t3, t3.inverse()), torch.mm(t3.inverse(), t3)"
   ]
  },
  {
   "cell_type": "markdown",
   "id": "907edb48",
   "metadata": {},
   "source": [
    "## 5. Phân rã ma trận\n",
    "Phân rã ma trận là một phép tính phổ biến trong các phép tính ma trận. Có nhiều loại phân rã ma trận khác nhau, ví dụ như phân rã QR, phân rã LU, phân rã Eigen, phân rã SVD, v.v. Mặc dù trong hầu hết các trường hợp, phân rã ma trận là quá trình phân chia ma trận thành tích của một số ma trận đặc biệt theo hình thức, nhưng theo bản chất, phân rã ma trận khám phá các thuộc tính sâu hơn của ma trận."
   ]
  },
  {
   "cell_type": "code",
   "execution_count": 57,
   "id": "e45ded4b",
   "metadata": {},
   "outputs": [
    {
     "data": {
      "text/plain": [
       "(tensor([[21., 22., 21.,  9.],\n",
       "         [ 7.,  7., 12., 14.],\n",
       "         [19.,  5., 12., 14.],\n",
       "         [13., 24., 11., 18.]]),\n",
       " torch.return_types.linalg_eig(\n",
       " eigenvalues=tensor([57.3224+0.0000j, 11.7508+0.0000j, -5.5366+6.6050j, -5.5366-6.6050j]),\n",
       " eigenvectors=tensor([[-0.6108+0.0000j,  0.5749+0.0000j, -0.5171+0.0986j, -0.5171-0.0986j],\n",
       "         [-0.3459+0.0000j, -0.2919+0.0000j,  0.0177-0.4062j,  0.0177+0.4062j],\n",
       "         [-0.4617+0.0000j,  0.3449+0.0000j,  0.6603+0.0000j,  0.6603-0.0000j],\n",
       "         [-0.5422+0.0000j, -0.6821+0.0000j, -0.1316+0.3228j, -0.1316-0.3228j]])))"
      ]
     },
     "execution_count": 57,
     "metadata": {},
     "output_type": "execute_result"
    }
   ],
   "source": [
    "# eig \n",
    "\n",
    "t3, torch.linalg.eig(t3)"
   ]
  },
  {
   "cell_type": "code",
   "execution_count": 59,
   "id": "ec035c62",
   "metadata": {},
   "outputs": [
    {
     "data": {
      "text/plain": [
       "(tensor([[-0.6676,  0.2025, -0.2243, -0.6804],\n",
       "         [-0.2242,  0.2324, -0.7742,  0.5443],\n",
       "         [-0.1981,  0.8040,  0.4901,  0.2722],\n",
       "         [-0.6817, -0.5084,  0.3318,  0.4082]]),\n",
       " tensor([1.1313e+02, 1.9464e+01, 5.6775e+00, 8.8685e-07]),\n",
       " tensor([[-2.4941e-01,  7.4738e-01,  6.1580e-01, -0.0000e+00],\n",
       "         [-2.9708e-01, -1.0785e-01,  1.0572e-02,  9.4868e-01],\n",
       "         [-2.3501e-01,  5.7018e-01, -7.8719e-01,  1.6785e-07],\n",
       "         [-8.9124e-01, -3.2355e-01,  3.1717e-02, -3.1623e-01]]))"
      ]
     },
     "execution_count": 59,
     "metadata": {},
     "output_type": "execute_result"
    }
   ],
   "source": [
    "\n",
    "# svd\n",
    "t3[:, -1] = t3[:, 1] * 3\n",
    "u, s, v = torch.svd(t3)\n",
    "u, s, v"
   ]
  },
  {
   "cell_type": "code",
   "execution_count": 60,
   "id": "4f4ec808",
   "metadata": {},
   "outputs": [
    {
     "data": {
      "text/plain": [
       "(tensor([[1.1313e+02, 0.0000e+00, 0.0000e+00, 0.0000e+00],\n",
       "         [0.0000e+00, 1.9464e+01, 0.0000e+00, 0.0000e+00],\n",
       "         [0.0000e+00, 0.0000e+00, 5.6775e+00, 0.0000e+00],\n",
       "         [0.0000e+00, 0.0000e+00, 0.0000e+00, 8.8685e-07]]),\n",
       " tensor([[21.0000, 22.0000, 21.0000, 66.0000],\n",
       "         [ 7.0000,  7.0000, 12.0000, 21.0000],\n",
       "         [19.0000,  5.0000, 12.0000, 15.0000],\n",
       "         [13.0000, 24.0000, 11.0000, 72.0000]]))"
      ]
     },
     "execution_count": 60,
     "metadata": {},
     "output_type": "execute_result"
    }
   ],
   "source": [
    "torch.diag(s), torch.mm(torch.mm(u, torch.diag(s)), v.t())"
   ]
  },
  {
   "cell_type": "code",
   "execution_count": 61,
   "id": "bc4eccec",
   "metadata": {},
   "outputs": [
    {
     "data": {
      "text/plain": [
       "tensor([[21.0000, 22.0000, 21.0000, 66.0000],\n",
       "        [ 7.0000,  7.0000, 12.0000, 21.0000],\n",
       "        [19.0000,  5.0000, 12.0000, 15.0000],\n",
       "        [13.0000, 24.0000, 11.0000, 72.0000]])"
      ]
     },
     "execution_count": 61,
     "metadata": {},
     "output_type": "execute_result"
    }
   ],
   "source": [
    "u_reduced = u[:, [0, 1, 2]]\n",
    "s_reduced = s[[0, 1, 2]]\n",
    "v_reduced = v[:, [0, 1, 2]].t()\n",
    "torch.mm(u_reduced * s_reduced, v_reduced)"
   ]
  },
  {
   "cell_type": "code",
   "execution_count": null,
   "id": "a6d06baa",
   "metadata": {},
   "outputs": [],
   "source": []
  },
  {
   "cell_type": "code",
   "execution_count": null,
   "id": "f375f10e",
   "metadata": {},
   "outputs": [],
   "source": []
  },
  {
   "cell_type": "code",
   "execution_count": null,
   "id": "11e7f551",
   "metadata": {},
   "outputs": [],
   "source": []
  }
 ],
 "metadata": {
  "kernelspec": {
   "display_name": "Python 3 (ipykernel)",
   "language": "python",
   "name": "python3"
  },
  "language_info": {
   "codemirror_mode": {
    "name": "ipython",
    "version": 3
   },
   "file_extension": ".py",
   "mimetype": "text/x-python",
   "name": "python",
   "nbconvert_exporter": "python",
   "pygments_lexer": "ipython3",
   "version": "3.9.12"
  }
 },
 "nbformat": 4,
 "nbformat_minor": 5
}
